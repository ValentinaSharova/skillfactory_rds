{
 "cells": [
  {
   "cell_type": "code",
   "execution_count": 120,
   "metadata": {
    "_cell_guid": "b1076dfc-b9ad-4769-8c92-a6c4dae69d19",
    "_uuid": "8f2839f25d086af736a60e9eeb907d3b93b6e0e5",
    "colab": {},
    "colab_type": "code",
    "id": "U2D2gTdJVp90"
   },
   "outputs": [],
   "source": [
    "import numpy as np\n",
    "import pandas as pd\n",
    "import seaborn as sns\n",
    "import matplotlib.pyplot as plt\n",
    "from collections import Counter"
   ]
  },
  {
   "cell_type": "code",
   "execution_count": 121,
   "metadata": {
    "_cell_guid": "79c7e3d0-c299-4dcb-8224-4455121ee9b0",
    "_uuid": "d629ff2d2480ee46fbb7e2d37f6b5fab8052498a",
    "colab": {},
    "colab_type": "code",
    "id": "oyGfxL3eVp9-"
   },
   "outputs": [
    {
     "data": {
      "text/html": [
       "<div>\n",
       "<style scoped>\n",
       "    .dataframe tbody tr th:only-of-type {\n",
       "        vertical-align: middle;\n",
       "    }\n",
       "\n",
       "    .dataframe tbody tr th {\n",
       "        vertical-align: top;\n",
       "    }\n",
       "\n",
       "    .dataframe thead th {\n",
       "        text-align: right;\n",
       "    }\n",
       "</style>\n",
       "<table border=\"1\" class=\"dataframe\">\n",
       "  <thead>\n",
       "    <tr style=\"text-align: right;\">\n",
       "      <th></th>\n",
       "      <th>imdb_id</th>\n",
       "      <th>budget</th>\n",
       "      <th>revenue</th>\n",
       "      <th>original_title</th>\n",
       "      <th>cast</th>\n",
       "      <th>director</th>\n",
       "      <th>tagline</th>\n",
       "      <th>overview</th>\n",
       "      <th>runtime</th>\n",
       "      <th>genres</th>\n",
       "      <th>production_companies</th>\n",
       "      <th>release_date</th>\n",
       "      <th>vote_average</th>\n",
       "      <th>release_year</th>\n",
       "    </tr>\n",
       "  </thead>\n",
       "  <tbody>\n",
       "    <tr>\n",
       "      <th>499</th>\n",
       "      <td>tt0198781</td>\n",
       "      <td>115000000</td>\n",
       "      <td>562816256</td>\n",
       "      <td>Monsters, Inc.</td>\n",
       "      <td>John Goodman|Billy Crystal|Mary Gibbs|Steve Bu...</td>\n",
       "      <td>Lee Unkrich|David Silverman|Pete Docter</td>\n",
       "      <td>We Scare Because We Care.</td>\n",
       "      <td>James Sullivan and Mike Wazowski are monsters,...</td>\n",
       "      <td>92</td>\n",
       "      <td>Fantasy|Animation|Family|Comedy</td>\n",
       "      <td>Walt Disney Pictures|Pixar Animation Studios</td>\n",
       "      <td>11/1/2001</td>\n",
       "      <td>7.3</td>\n",
       "      <td>2001</td>\n",
       "    </tr>\n",
       "    <tr>\n",
       "      <th>1818</th>\n",
       "      <td>tt0187078</td>\n",
       "      <td>90000000</td>\n",
       "      <td>237202299</td>\n",
       "      <td>Gone In Sixty Seconds</td>\n",
       "      <td>Nicolas Cage|Angelina Jolie|Giovanni Ribisi|De...</td>\n",
       "      <td>Dominic Sena</td>\n",
       "      <td>Ice Cold, Hot Wired.</td>\n",
       "      <td>Upon learning that he has to come out of retir...</td>\n",
       "      <td>118</td>\n",
       "      <td>Action|Crime|Thriller</td>\n",
       "      <td>Jerry Bruckheimer Films|Touchstone Pictures</td>\n",
       "      <td>6/9/2000</td>\n",
       "      <td>6.0</td>\n",
       "      <td>2000</td>\n",
       "    </tr>\n",
       "    <tr>\n",
       "      <th>1153</th>\n",
       "      <td>tt0313542</td>\n",
       "      <td>60000000</td>\n",
       "      <td>80154140</td>\n",
       "      <td>Runaway Jury</td>\n",
       "      <td>John Cusack|Gene Hackman|Dustin Hoffman|Rachel...</td>\n",
       "      <td>Gary Fleder</td>\n",
       "      <td>Trials are too important to be decided by juries.</td>\n",
       "      <td>A juror on the inside and a woman on the outsi...</td>\n",
       "      <td>127</td>\n",
       "      <td>Drama|Thriller</td>\n",
       "      <td>Regency Enterprises|Epsilon Motion Pictures|Ne...</td>\n",
       "      <td>10/9/2003</td>\n",
       "      <td>6.8</td>\n",
       "      <td>2003</td>\n",
       "    </tr>\n",
       "    <tr>\n",
       "      <th>1157</th>\n",
       "      <td>tt0279111</td>\n",
       "      <td>56000000</td>\n",
       "      <td>12923936</td>\n",
       "      <td>Gods and Generals</td>\n",
       "      <td>Stephen Lang|Jeff Daniels|Robert Duvall|Kevin ...</td>\n",
       "      <td>Ronald F. Maxwell</td>\n",
       "      <td>The nations heart was touched by...</td>\n",
       "      <td>The film centers mostly around the personal an...</td>\n",
       "      <td>214</td>\n",
       "      <td>Drama|History|War</td>\n",
       "      <td>Turner Pictures|Antietam Filmworks</td>\n",
       "      <td>2/21/2003</td>\n",
       "      <td>5.8</td>\n",
       "      <td>2003</td>\n",
       "    </tr>\n",
       "    <tr>\n",
       "      <th>224</th>\n",
       "      <td>tt2771372</td>\n",
       "      <td>6000000</td>\n",
       "      <td>3485127</td>\n",
       "      <td>Veronica Mars</td>\n",
       "      <td>Kristen Bell|Jason Dohring|Enrico Colantoni|Ch...</td>\n",
       "      <td>Rob Thomas</td>\n",
       "      <td>She thought she was out</td>\n",
       "      <td>Years after walking away from her past as a te...</td>\n",
       "      <td>107</td>\n",
       "      <td>Comedy|Drama|Crime</td>\n",
       "      <td>Warner Bros.|Warner Bros. Interactive Entertai...</td>\n",
       "      <td>3/13/2014</td>\n",
       "      <td>6.3</td>\n",
       "      <td>2014</td>\n",
       "    </tr>\n",
       "  </tbody>\n",
       "</table>\n",
       "</div>"
      ],
      "text/plain": [
       "        imdb_id     budget    revenue         original_title  \\\n",
       "499   tt0198781  115000000  562816256         Monsters, Inc.   \n",
       "1818  tt0187078   90000000  237202299  Gone In Sixty Seconds   \n",
       "1153  tt0313542   60000000   80154140           Runaway Jury   \n",
       "1157  tt0279111   56000000   12923936      Gods and Generals   \n",
       "224   tt2771372    6000000    3485127          Veronica Mars   \n",
       "\n",
       "                                                   cast  \\\n",
       "499   John Goodman|Billy Crystal|Mary Gibbs|Steve Bu...   \n",
       "1818  Nicolas Cage|Angelina Jolie|Giovanni Ribisi|De...   \n",
       "1153  John Cusack|Gene Hackman|Dustin Hoffman|Rachel...   \n",
       "1157  Stephen Lang|Jeff Daniels|Robert Duvall|Kevin ...   \n",
       "224   Kristen Bell|Jason Dohring|Enrico Colantoni|Ch...   \n",
       "\n",
       "                                     director  \\\n",
       "499   Lee Unkrich|David Silverman|Pete Docter   \n",
       "1818                             Dominic Sena   \n",
       "1153                              Gary Fleder   \n",
       "1157                        Ronald F. Maxwell   \n",
       "224                                Rob Thomas   \n",
       "\n",
       "                                                tagline  \\\n",
       "499                           We Scare Because We Care.   \n",
       "1818                               Ice Cold, Hot Wired.   \n",
       "1153  Trials are too important to be decided by juries.   \n",
       "1157                The nations heart was touched by...   \n",
       "224                             She thought she was out   \n",
       "\n",
       "                                               overview  runtime  \\\n",
       "499   James Sullivan and Mike Wazowski are monsters,...       92   \n",
       "1818  Upon learning that he has to come out of retir...      118   \n",
       "1153  A juror on the inside and a woman on the outsi...      127   \n",
       "1157  The film centers mostly around the personal an...      214   \n",
       "224   Years after walking away from her past as a te...      107   \n",
       "\n",
       "                               genres  \\\n",
       "499   Fantasy|Animation|Family|Comedy   \n",
       "1818            Action|Crime|Thriller   \n",
       "1153                   Drama|Thriller   \n",
       "1157                Drama|History|War   \n",
       "224                Comedy|Drama|Crime   \n",
       "\n",
       "                                   production_companies release_date  \\\n",
       "499        Walt Disney Pictures|Pixar Animation Studios    11/1/2001   \n",
       "1818        Jerry Bruckheimer Films|Touchstone Pictures     6/9/2000   \n",
       "1153  Regency Enterprises|Epsilon Motion Pictures|Ne...    10/9/2003   \n",
       "1157                 Turner Pictures|Antietam Filmworks    2/21/2003   \n",
       "224   Warner Bros.|Warner Bros. Interactive Entertai...    3/13/2014   \n",
       "\n",
       "      vote_average  release_year  \n",
       "499            7.3          2001  \n",
       "1818           6.0          2000  \n",
       "1153           6.8          2003  \n",
       "1157           5.8          2003  \n",
       "224            6.3          2014  "
      ]
     },
     "execution_count": 121,
     "metadata": {},
     "output_type": "execute_result"
    }
   ],
   "source": [
    "data = pd.read_csv('movie_bd_v5.csv.xlw')\n",
    "data.sample(5)"
   ]
  },
  {
   "cell_type": "code",
   "execution_count": 5,
   "metadata": {
    "colab": {},
    "colab_type": "code",
    "id": "CoYUnagMVp-C"
   },
   "outputs": [
    {
     "data": {
      "text/html": [
       "<div>\n",
       "<style scoped>\n",
       "    .dataframe tbody tr th:only-of-type {\n",
       "        vertical-align: middle;\n",
       "    }\n",
       "\n",
       "    .dataframe tbody tr th {\n",
       "        vertical-align: top;\n",
       "    }\n",
       "\n",
       "    .dataframe thead th {\n",
       "        text-align: right;\n",
       "    }\n",
       "</style>\n",
       "<table border=\"1\" class=\"dataframe\">\n",
       "  <thead>\n",
       "    <tr style=\"text-align: right;\">\n",
       "      <th></th>\n",
       "      <th>budget</th>\n",
       "      <th>revenue</th>\n",
       "      <th>runtime</th>\n",
       "      <th>vote_average</th>\n",
       "      <th>release_year</th>\n",
       "    </tr>\n",
       "  </thead>\n",
       "  <tbody>\n",
       "    <tr>\n",
       "      <th>count</th>\n",
       "      <td>1.889000e+03</td>\n",
       "      <td>1.889000e+03</td>\n",
       "      <td>1889.000000</td>\n",
       "      <td>1889.000000</td>\n",
       "      <td>1889.000000</td>\n",
       "    </tr>\n",
       "    <tr>\n",
       "      <th>mean</th>\n",
       "      <td>5.431083e+07</td>\n",
       "      <td>1.553653e+08</td>\n",
       "      <td>109.658549</td>\n",
       "      <td>6.140762</td>\n",
       "      <td>2007.860773</td>\n",
       "    </tr>\n",
       "    <tr>\n",
       "      <th>std</th>\n",
       "      <td>4.858721e+07</td>\n",
       "      <td>2.146698e+08</td>\n",
       "      <td>18.017041</td>\n",
       "      <td>0.764763</td>\n",
       "      <td>4.468841</td>\n",
       "    </tr>\n",
       "    <tr>\n",
       "      <th>min</th>\n",
       "      <td>5.000000e+06</td>\n",
       "      <td>2.033165e+06</td>\n",
       "      <td>63.000000</td>\n",
       "      <td>3.300000</td>\n",
       "      <td>2000.000000</td>\n",
       "    </tr>\n",
       "    <tr>\n",
       "      <th>25%</th>\n",
       "      <td>2.000000e+07</td>\n",
       "      <td>3.456058e+07</td>\n",
       "      <td>97.000000</td>\n",
       "      <td>5.600000</td>\n",
       "      <td>2004.000000</td>\n",
       "    </tr>\n",
       "    <tr>\n",
       "      <th>50%</th>\n",
       "      <td>3.800000e+07</td>\n",
       "      <td>8.361541e+07</td>\n",
       "      <td>107.000000</td>\n",
       "      <td>6.100000</td>\n",
       "      <td>2008.000000</td>\n",
       "    </tr>\n",
       "    <tr>\n",
       "      <th>75%</th>\n",
       "      <td>7.200000e+07</td>\n",
       "      <td>1.782626e+08</td>\n",
       "      <td>120.000000</td>\n",
       "      <td>6.600000</td>\n",
       "      <td>2012.000000</td>\n",
       "    </tr>\n",
       "    <tr>\n",
       "      <th>max</th>\n",
       "      <td>3.800000e+08</td>\n",
       "      <td>2.781506e+09</td>\n",
       "      <td>214.000000</td>\n",
       "      <td>8.100000</td>\n",
       "      <td>2015.000000</td>\n",
       "    </tr>\n",
       "  </tbody>\n",
       "</table>\n",
       "</div>"
      ],
      "text/plain": [
       "             budget       revenue      runtime  vote_average  release_year\n",
       "count  1.889000e+03  1.889000e+03  1889.000000   1889.000000   1889.000000\n",
       "mean   5.431083e+07  1.553653e+08   109.658549      6.140762   2007.860773\n",
       "std    4.858721e+07  2.146698e+08    18.017041      0.764763      4.468841\n",
       "min    5.000000e+06  2.033165e+06    63.000000      3.300000   2000.000000\n",
       "25%    2.000000e+07  3.456058e+07    97.000000      5.600000   2004.000000\n",
       "50%    3.800000e+07  8.361541e+07   107.000000      6.100000   2008.000000\n",
       "75%    7.200000e+07  1.782626e+08   120.000000      6.600000   2012.000000\n",
       "max    3.800000e+08  2.781506e+09   214.000000      8.100000   2015.000000"
      ]
     },
     "execution_count": 5,
     "metadata": {},
     "output_type": "execute_result"
    }
   ],
   "source": [
    "data.describe()"
   ]
  },
  {
   "cell_type": "markdown",
   "metadata": {
    "colab_type": "text",
    "id": "DTIt7ezGVp-G"
   },
   "source": [
    "# Предобработка"
   ]
  },
  {
   "cell_type": "code",
   "execution_count": 267,
   "metadata": {
    "colab": {},
    "colab_type": "code",
    "id": "jNb40DwKVp-H"
   },
   "outputs": [],
   "source": [
    "answers = {} # создадим словарь для ответов\n",
    "\n",
    "# тут другие ваши предобработки колонок например:\n",
    "\n",
    "#the time given in the dataset is in string format.\n",
    "#So we need to change this in datetime format\n",
    "# ...\n",
    "data = pd.read_csv('movie_bd_v5.csv.xlw')\n",
    "profit = data.revenue - data.budget\n",
    "data['profit'] = profit\n",
    "\n"
   ]
  },
  {
   "cell_type": "markdown",
   "metadata": {
    "colab_type": "text",
    "id": "YxZaH-nPVp-L"
   },
   "source": [
    "# 1. У какого фильма из списка самый большой бюджет?"
   ]
  },
  {
   "cell_type": "markdown",
   "metadata": {
    "colab_type": "text",
    "id": "Nd-G5gX6Vp-M"
   },
   "source": [
    "Использовать варианты ответов в коде решения запрещено.    \n",
    "Вы думаете и в жизни у вас будут варианты ответов?)"
   ]
  },
  {
   "cell_type": "code",
   "execution_count": 215,
   "metadata": {
    "colab": {},
    "colab_type": "code",
    "id": "uVnXAY5RVp-O"
   },
   "outputs": [],
   "source": [
    "# в словарь вставляем номер вопроса и ваш ответ на него\n",
    "# Пример: \n",
    "#answers['1'] = '2. Spider-Man 3 (tt0413300)'\n",
    "# запишите свой вариант ответа\n",
    "\n",
    "answers = {}\n",
    "\n",
    "answers['1'] = 'Pirates of the Caribbean: On Stranger Tides (tt1298650)'\n",
    "answers['2'] = 'Gods and Generals(tt0279111)'\n",
    "answers['3'] = 'Winnie the Pooh(tt1449283)'\n",
    "answers['4'] = '109.66'\n",
    "answers['5'] = '107.0'\n",
    "answers['6'] = 'Avatar (tt0499549)'\n",
    "answers['7'] = 'The Lone Ranger(tt1210819)'\n",
    "answers['8'] = '1478'\n",
    "answers['9'] = 'The Dark Knight (tt0468569)'\n",
    "answers['10'] = 'The Lone Ranger (tt1210819)'\n",
    "answers['11'] = 'Drama'\n",
    "answers['12'] = 'Drama'\n",
    "answers['13'] = 'Peter Jackson'\n",
    "answers['14'] = 'Robert Rodriguez'\n",
    "answers['15'] = 'Chris Hemsworth'\n",
    "answers['16'] = 'Matt Damon'\n",
    "answers['17'] = 'Action'\n",
    "answers['18'] = 'K-19: The Widowmaker (tt0267626)'\n",
    "answers['19'] = '2015'\n",
    "answers['20'] = '2014'\n",
    "answers['21'] = 'сентябрь'\n",
    "answers['22'] = '450'\n",
    "answers['23'] = 'Peter Jackson'\n",
    "answers['24'] = 'Four By Two Productions'\n",
    "answers['25'] = 'Midnight Picture Show'\n",
    "answers['26'] = 'The Dark Knight, Inside Out, 12 Years a Slave'\n",
    "answers['27'] = 'Daniel Radcliffe & Rupert Grint'"
   ]
  },
  {
   "cell_type": "code",
   "execution_count": 19,
   "metadata": {
    "colab": {},
    "colab_type": "code",
    "id": "dZwb3m28Vp-S"
   },
   "outputs": [
    {
     "data": {
      "text/html": [
       "<div>\n",
       "<style scoped>\n",
       "    .dataframe tbody tr th:only-of-type {\n",
       "        vertical-align: middle;\n",
       "    }\n",
       "\n",
       "    .dataframe tbody tr th {\n",
       "        vertical-align: top;\n",
       "    }\n",
       "\n",
       "    .dataframe thead th {\n",
       "        text-align: right;\n",
       "    }\n",
       "</style>\n",
       "<table border=\"1\" class=\"dataframe\">\n",
       "  <thead>\n",
       "    <tr style=\"text-align: right;\">\n",
       "      <th></th>\n",
       "      <th>imdb_id</th>\n",
       "      <th>budget</th>\n",
       "      <th>revenue</th>\n",
       "      <th>original_title</th>\n",
       "      <th>cast</th>\n",
       "      <th>director</th>\n",
       "      <th>tagline</th>\n",
       "      <th>overview</th>\n",
       "      <th>runtime</th>\n",
       "      <th>genres</th>\n",
       "      <th>production_companies</th>\n",
       "      <th>release_date</th>\n",
       "      <th>vote_average</th>\n",
       "      <th>release_year</th>\n",
       "    </tr>\n",
       "  </thead>\n",
       "  <tbody>\n",
       "    <tr>\n",
       "      <th>723</th>\n",
       "      <td>tt1298650</td>\n",
       "      <td>380000000</td>\n",
       "      <td>1021683000</td>\n",
       "      <td>Pirates of the Caribbean: On Stranger Tides</td>\n",
       "      <td>Johnny Depp|PenÃ©lope Cruz|Geoffrey Rush|Ian M...</td>\n",
       "      <td>Rob Marshall</td>\n",
       "      <td>Live Forever Or Die Trying.</td>\n",
       "      <td>Captain Jack Sparrow crosses paths with a woma...</td>\n",
       "      <td>136</td>\n",
       "      <td>Adventure|Action|Fantasy</td>\n",
       "      <td>Walt Disney Pictures|Jerry Bruckheimer Films|M...</td>\n",
       "      <td>5/11/2011</td>\n",
       "      <td>6.3</td>\n",
       "      <td>2011</td>\n",
       "    </tr>\n",
       "  </tbody>\n",
       "</table>\n",
       "</div>"
      ],
      "text/plain": [
       "       imdb_id     budget     revenue  \\\n",
       "723  tt1298650  380000000  1021683000   \n",
       "\n",
       "                                  original_title  \\\n",
       "723  Pirates of the Caribbean: On Stranger Tides   \n",
       "\n",
       "                                                  cast      director  \\\n",
       "723  Johnny Depp|PenÃ©lope Cruz|Geoffrey Rush|Ian M...  Rob Marshall   \n",
       "\n",
       "                         tagline  \\\n",
       "723  Live Forever Or Die Trying.   \n",
       "\n",
       "                                              overview  runtime  \\\n",
       "723  Captain Jack Sparrow crosses paths with a woma...      136   \n",
       "\n",
       "                       genres  \\\n",
       "723  Adventure|Action|Fantasy   \n",
       "\n",
       "                                  production_companies release_date  \\\n",
       "723  Walt Disney Pictures|Jerry Bruckheimer Films|M...    5/11/2011   \n",
       "\n",
       "     vote_average  release_year  \n",
       "723           6.3          2011  "
      ]
     },
     "execution_count": 19,
     "metadata": {},
     "output_type": "execute_result"
    }
   ],
   "source": [
    "# тут пишем ваш код для решения данного вопроса:\n",
    "data[data.budget == data.budget.max()]\n"
   ]
  },
  {
   "cell_type": "markdown",
   "metadata": {
    "colab_type": "text",
    "id": "K7L3nbRXVp-X"
   },
   "source": [
    "ВАРИАНТ 2"
   ]
  },
  {
   "cell_type": "code",
   "execution_count": 0,
   "metadata": {
    "colab": {},
    "colab_type": "code",
    "id": "OGaoQI7rVp-X"
   },
   "outputs": [],
   "source": [
    "# можно добавлять разные варианты решения"
   ]
  },
  {
   "cell_type": "markdown",
   "metadata": {
    "colab_type": "text",
    "id": "FNRbbI3vVp-c"
   },
   "source": [
    "# 2. Какой из фильмов самый длительный (в минутах)?"
   ]
  },
  {
   "cell_type": "code",
   "execution_count": 27,
   "metadata": {
    "colab": {},
    "colab_type": "code",
    "id": "vHAoEXNTVp-d"
   },
   "outputs": [],
   "source": [
    "# думаю логику работы с этим словарем вы уже поняли, \n",
    "# по этому не буду больше его дублировать\n",
    "answers['2'] = 'Gods and Generals(tt0279111)'"
   ]
  },
  {
   "cell_type": "code",
   "execution_count": 21,
   "metadata": {
    "colab": {},
    "colab_type": "code",
    "id": "ot-VX2XrVp-g"
   },
   "outputs": [
    {
     "data": {
      "text/html": [
       "<div>\n",
       "<style scoped>\n",
       "    .dataframe tbody tr th:only-of-type {\n",
       "        vertical-align: middle;\n",
       "    }\n",
       "\n",
       "    .dataframe tbody tr th {\n",
       "        vertical-align: top;\n",
       "    }\n",
       "\n",
       "    .dataframe thead th {\n",
       "        text-align: right;\n",
       "    }\n",
       "</style>\n",
       "<table border=\"1\" class=\"dataframe\">\n",
       "  <thead>\n",
       "    <tr style=\"text-align: right;\">\n",
       "      <th></th>\n",
       "      <th>imdb_id</th>\n",
       "      <th>budget</th>\n",
       "      <th>revenue</th>\n",
       "      <th>original_title</th>\n",
       "      <th>cast</th>\n",
       "      <th>director</th>\n",
       "      <th>tagline</th>\n",
       "      <th>overview</th>\n",
       "      <th>runtime</th>\n",
       "      <th>genres</th>\n",
       "      <th>production_companies</th>\n",
       "      <th>release_date</th>\n",
       "      <th>vote_average</th>\n",
       "      <th>release_year</th>\n",
       "    </tr>\n",
       "  </thead>\n",
       "  <tbody>\n",
       "    <tr>\n",
       "      <th>1157</th>\n",
       "      <td>tt0279111</td>\n",
       "      <td>56000000</td>\n",
       "      <td>12923936</td>\n",
       "      <td>Gods and Generals</td>\n",
       "      <td>Stephen Lang|Jeff Daniels|Robert Duvall|Kevin ...</td>\n",
       "      <td>Ronald F. Maxwell</td>\n",
       "      <td>The nations heart was touched by...</td>\n",
       "      <td>The film centers mostly around the personal an...</td>\n",
       "      <td>214</td>\n",
       "      <td>Drama|History|War</td>\n",
       "      <td>Turner Pictures|Antietam Filmworks</td>\n",
       "      <td>2/21/2003</td>\n",
       "      <td>5.8</td>\n",
       "      <td>2003</td>\n",
       "    </tr>\n",
       "  </tbody>\n",
       "</table>\n",
       "</div>"
      ],
      "text/plain": [
       "        imdb_id    budget   revenue     original_title  \\\n",
       "1157  tt0279111  56000000  12923936  Gods and Generals   \n",
       "\n",
       "                                                   cast           director  \\\n",
       "1157  Stephen Lang|Jeff Daniels|Robert Duvall|Kevin ...  Ronald F. Maxwell   \n",
       "\n",
       "                                  tagline  \\\n",
       "1157  The nations heart was touched by...   \n",
       "\n",
       "                                               overview  runtime  \\\n",
       "1157  The film centers mostly around the personal an...      214   \n",
       "\n",
       "                 genres                production_companies release_date  \\\n",
       "1157  Drama|History|War  Turner Pictures|Antietam Filmworks    2/21/2003   \n",
       "\n",
       "      vote_average  release_year  \n",
       "1157           5.8          2003  "
      ]
     },
     "execution_count": 21,
     "metadata": {},
     "output_type": "execute_result"
    }
   ],
   "source": [
    "data[data.runtime == data.runtime.max()]"
   ]
  },
  {
   "cell_type": "markdown",
   "metadata": {
    "colab_type": "text",
    "id": "bapLlpW8Vp-k"
   },
   "source": [
    "# 3. Какой из фильмов самый короткий (в минутах)?\n",
    "\n",
    "\n",
    "\n"
   ]
  },
  {
   "cell_type": "code",
   "execution_count": 26,
   "metadata": {
    "colab": {},
    "colab_type": "code",
    "id": "YBxaSHuAVp-l"
   },
   "outputs": [
    {
     "data": {
      "text/html": [
       "<div>\n",
       "<style scoped>\n",
       "    .dataframe tbody tr th:only-of-type {\n",
       "        vertical-align: middle;\n",
       "    }\n",
       "\n",
       "    .dataframe tbody tr th {\n",
       "        vertical-align: top;\n",
       "    }\n",
       "\n",
       "    .dataframe thead th {\n",
       "        text-align: right;\n",
       "    }\n",
       "</style>\n",
       "<table border=\"1\" class=\"dataframe\">\n",
       "  <thead>\n",
       "    <tr style=\"text-align: right;\">\n",
       "      <th></th>\n",
       "      <th>imdb_id</th>\n",
       "      <th>budget</th>\n",
       "      <th>revenue</th>\n",
       "      <th>original_title</th>\n",
       "      <th>cast</th>\n",
       "      <th>director</th>\n",
       "      <th>tagline</th>\n",
       "      <th>overview</th>\n",
       "      <th>runtime</th>\n",
       "      <th>genres</th>\n",
       "      <th>production_companies</th>\n",
       "      <th>release_date</th>\n",
       "      <th>vote_average</th>\n",
       "      <th>release_year</th>\n",
       "    </tr>\n",
       "  </thead>\n",
       "  <tbody>\n",
       "    <tr>\n",
       "      <th>768</th>\n",
       "      <td>tt1449283</td>\n",
       "      <td>30000000</td>\n",
       "      <td>14460000</td>\n",
       "      <td>Winnie the Pooh</td>\n",
       "      <td>Jim Cummings|Travis Oates|Jim Cummings|Bud Luc...</td>\n",
       "      <td>Stephen Anderson|Don Hall</td>\n",
       "      <td>Oh Pooh.</td>\n",
       "      <td>During an ordinary day in Hundred Acre Wood, W...</td>\n",
       "      <td>63</td>\n",
       "      <td>Animation|Family</td>\n",
       "      <td>Walt Disney Pictures|Walt Disney Animation Stu...</td>\n",
       "      <td>4/13/2011</td>\n",
       "      <td>6.8</td>\n",
       "      <td>2011</td>\n",
       "    </tr>\n",
       "  </tbody>\n",
       "</table>\n",
       "</div>"
      ],
      "text/plain": [
       "       imdb_id    budget   revenue   original_title  \\\n",
       "768  tt1449283  30000000  14460000  Winnie the Pooh   \n",
       "\n",
       "                                                  cast  \\\n",
       "768  Jim Cummings|Travis Oates|Jim Cummings|Bud Luc...   \n",
       "\n",
       "                      director   tagline  \\\n",
       "768  Stephen Anderson|Don Hall  Oh Pooh.   \n",
       "\n",
       "                                              overview  runtime  \\\n",
       "768  During an ordinary day in Hundred Acre Wood, W...       63   \n",
       "\n",
       "               genres                               production_companies  \\\n",
       "768  Animation|Family  Walt Disney Pictures|Walt Disney Animation Stu...   \n",
       "\n",
       "    release_date  vote_average  release_year  \n",
       "768    4/13/2011           6.8          2011  "
      ]
     },
     "execution_count": 26,
     "metadata": {},
     "output_type": "execute_result"
    }
   ],
   "source": [
    "answers['3'] = 'Winnie the Pooh(tt1449283)'\n",
    "data[data.runtime == data.runtime.min()]"
   ]
  },
  {
   "cell_type": "markdown",
   "metadata": {
    "colab_type": "text",
    "id": "TfQbxbfNVp-p"
   },
   "source": [
    "# 4. Какова средняя длительность фильмов?\n"
   ]
  },
  {
   "cell_type": "code",
   "execution_count": 34,
   "metadata": {
    "colab": {},
    "colab_type": "code",
    "id": "5K6dKZYVVp-q"
   },
   "outputs": [
    {
     "data": {
      "text/plain": [
       "109.6585494970884"
      ]
     },
     "execution_count": 34,
     "metadata": {},
     "output_type": "execute_result"
    }
   ],
   "source": [
    "data.runtime.mean()"
   ]
  },
  {
   "cell_type": "markdown",
   "metadata": {
    "colab_type": "text",
    "id": "r5TvbnT_Vp-u"
   },
   "source": [
    "# 5. Каково медианное значение длительности фильмов? "
   ]
  },
  {
   "cell_type": "code",
   "execution_count": 35,
   "metadata": {
    "colab": {},
    "colab_type": "code",
    "id": "iBROplKnVp-v"
   },
   "outputs": [
    {
     "data": {
      "text/plain": [
       "107.0"
      ]
     },
     "execution_count": 35,
     "metadata": {},
     "output_type": "execute_result"
    }
   ],
   "source": [
    "data.runtime.median()"
   ]
  },
  {
   "cell_type": "markdown",
   "metadata": {
    "colab_type": "text",
    "id": "39P-deDSVp-y"
   },
   "source": [
    "# 6. Какой самый прибыльный фильм?\n",
    "#### Внимание! Здесь и далее под «прибылью» или «убытками» понимается разность между сборами и бюджетом фильма. (прибыль = сборы - бюджет) в нашем датасете это будет (profit = revenue - budget) "
   ]
  },
  {
   "cell_type": "code",
   "execution_count": 49,
   "metadata": {
    "colab": {},
    "colab_type": "code",
    "id": "UYZh4T9WVp-y"
   },
   "outputs": [
    {
     "data": {
      "text/html": [
       "<div>\n",
       "<style scoped>\n",
       "    .dataframe tbody tr th:only-of-type {\n",
       "        vertical-align: middle;\n",
       "    }\n",
       "\n",
       "    .dataframe tbody tr th {\n",
       "        vertical-align: top;\n",
       "    }\n",
       "\n",
       "    .dataframe thead th {\n",
       "        text-align: right;\n",
       "    }\n",
       "</style>\n",
       "<table border=\"1\" class=\"dataframe\">\n",
       "  <thead>\n",
       "    <tr style=\"text-align: right;\">\n",
       "      <th></th>\n",
       "      <th>imdb_id</th>\n",
       "      <th>budget</th>\n",
       "      <th>revenue</th>\n",
       "      <th>original_title</th>\n",
       "      <th>cast</th>\n",
       "      <th>director</th>\n",
       "      <th>tagline</th>\n",
       "      <th>overview</th>\n",
       "      <th>runtime</th>\n",
       "      <th>genres</th>\n",
       "      <th>production_companies</th>\n",
       "      <th>release_date</th>\n",
       "      <th>vote_average</th>\n",
       "      <th>release_year</th>\n",
       "      <th>profit</th>\n",
       "    </tr>\n",
       "  </thead>\n",
       "  <tbody>\n",
       "    <tr>\n",
       "      <th>239</th>\n",
       "      <td>tt0499549</td>\n",
       "      <td>237000000</td>\n",
       "      <td>2781505847</td>\n",
       "      <td>Avatar</td>\n",
       "      <td>Sam Worthington|Zoe Saldana|Sigourney Weaver|S...</td>\n",
       "      <td>James Cameron</td>\n",
       "      <td>Enter the World of Pandora.</td>\n",
       "      <td>In the 22nd century, a paraplegic Marine is di...</td>\n",
       "      <td>162</td>\n",
       "      <td>Action|Adventure|Fantasy|Science Fiction</td>\n",
       "      <td>Ingenious Film Partners|Twentieth Century Fox ...</td>\n",
       "      <td>12/10/2009</td>\n",
       "      <td>7.1</td>\n",
       "      <td>2009</td>\n",
       "      <td>2544505847</td>\n",
       "    </tr>\n",
       "  </tbody>\n",
       "</table>\n",
       "</div>"
      ],
      "text/plain": [
       "       imdb_id     budget     revenue original_title  \\\n",
       "239  tt0499549  237000000  2781505847         Avatar   \n",
       "\n",
       "                                                  cast       director  \\\n",
       "239  Sam Worthington|Zoe Saldana|Sigourney Weaver|S...  James Cameron   \n",
       "\n",
       "                         tagline  \\\n",
       "239  Enter the World of Pandora.   \n",
       "\n",
       "                                              overview  runtime  \\\n",
       "239  In the 22nd century, a paraplegic Marine is di...      162   \n",
       "\n",
       "                                       genres  \\\n",
       "239  Action|Adventure|Fantasy|Science Fiction   \n",
       "\n",
       "                                  production_companies release_date  \\\n",
       "239  Ingenious Film Partners|Twentieth Century Fox ...   12/10/2009   \n",
       "\n",
       "     vote_average  release_year      profit  \n",
       "239           7.1          2009  2544505847  "
      ]
     },
     "execution_count": 49,
     "metadata": {},
     "output_type": "execute_result"
    }
   ],
   "source": [
    "data[data.profit == data.profit.max()]\n",
    "# лучше код получения столбца profit вынести в Предобработку что в начале"
   ]
  },
  {
   "cell_type": "markdown",
   "metadata": {
    "colab_type": "text",
    "id": "M99JmIX4Vp-2"
   },
   "source": [
    "# 7. Какой фильм самый убыточный? "
   ]
  },
  {
   "cell_type": "code",
   "execution_count": 48,
   "metadata": {
    "colab": {},
    "colab_type": "code",
    "id": "w-D2m4XPVp-3"
   },
   "outputs": [
    {
     "data": {
      "text/html": [
       "<div>\n",
       "<style scoped>\n",
       "    .dataframe tbody tr th:only-of-type {\n",
       "        vertical-align: middle;\n",
       "    }\n",
       "\n",
       "    .dataframe tbody tr th {\n",
       "        vertical-align: top;\n",
       "    }\n",
       "\n",
       "    .dataframe thead th {\n",
       "        text-align: right;\n",
       "    }\n",
       "</style>\n",
       "<table border=\"1\" class=\"dataframe\">\n",
       "  <thead>\n",
       "    <tr style=\"text-align: right;\">\n",
       "      <th></th>\n",
       "      <th>imdb_id</th>\n",
       "      <th>budget</th>\n",
       "      <th>revenue</th>\n",
       "      <th>original_title</th>\n",
       "      <th>cast</th>\n",
       "      <th>director</th>\n",
       "      <th>tagline</th>\n",
       "      <th>overview</th>\n",
       "      <th>runtime</th>\n",
       "      <th>genres</th>\n",
       "      <th>production_companies</th>\n",
       "      <th>release_date</th>\n",
       "      <th>vote_average</th>\n",
       "      <th>release_year</th>\n",
       "      <th>profit</th>\n",
       "    </tr>\n",
       "  </thead>\n",
       "  <tbody>\n",
       "    <tr>\n",
       "      <th>1245</th>\n",
       "      <td>tt1210819</td>\n",
       "      <td>255000000</td>\n",
       "      <td>89289910</td>\n",
       "      <td>The Lone Ranger</td>\n",
       "      <td>Johnny Depp|Armie Hammer|William Fichtner|Hele...</td>\n",
       "      <td>Gore Verbinski</td>\n",
       "      <td>Never Take Off the Mask</td>\n",
       "      <td>The Texas Rangers chase down a gang of outlaws...</td>\n",
       "      <td>149</td>\n",
       "      <td>Action|Adventure|Western</td>\n",
       "      <td>Walt Disney Pictures|Jerry Bruckheimer Films|I...</td>\n",
       "      <td>7/3/2013</td>\n",
       "      <td>6.0</td>\n",
       "      <td>2013</td>\n",
       "      <td>-165710090</td>\n",
       "    </tr>\n",
       "  </tbody>\n",
       "</table>\n",
       "</div>"
      ],
      "text/plain": [
       "        imdb_id     budget   revenue   original_title  \\\n",
       "1245  tt1210819  255000000  89289910  The Lone Ranger   \n",
       "\n",
       "                                                   cast        director  \\\n",
       "1245  Johnny Depp|Armie Hammer|William Fichtner|Hele...  Gore Verbinski   \n",
       "\n",
       "                      tagline  \\\n",
       "1245  Never Take Off the Mask   \n",
       "\n",
       "                                               overview  runtime  \\\n",
       "1245  The Texas Rangers chase down a gang of outlaws...      149   \n",
       "\n",
       "                        genres  \\\n",
       "1245  Action|Adventure|Western   \n",
       "\n",
       "                                   production_companies release_date  \\\n",
       "1245  Walt Disney Pictures|Jerry Bruckheimer Films|I...     7/3/2013   \n",
       "\n",
       "      vote_average  release_year     profit  \n",
       "1245           6.0          2013 -165710090  "
      ]
     },
     "execution_count": 48,
     "metadata": {},
     "output_type": "execute_result"
    }
   ],
   "source": [
    "data[data.profit == data.profit.min()]"
   ]
  },
  {
   "cell_type": "markdown",
   "metadata": {
    "colab_type": "text",
    "id": "wEOM5ERVVp-6"
   },
   "source": [
    "# 8. У скольких фильмов из датасета объем сборов оказался выше бюджета?"
   ]
  },
  {
   "cell_type": "code",
   "execution_count": 51,
   "metadata": {
    "colab": {},
    "colab_type": "code",
    "id": "y00_7HD6Vp-7"
   },
   "outputs": [
    {
     "data": {
      "text/plain": [
       "imdb_id                 1478\n",
       "budget                  1478\n",
       "revenue                 1478\n",
       "original_title          1478\n",
       "cast                    1478\n",
       "director                1478\n",
       "tagline                 1478\n",
       "overview                1478\n",
       "runtime                 1478\n",
       "genres                  1478\n",
       "production_companies    1478\n",
       "release_date            1478\n",
       "vote_average            1478\n",
       "release_year            1478\n",
       "profit                  1478\n",
       "dtype: int64"
      ]
     },
     "execution_count": 51,
     "metadata": {},
     "output_type": "execute_result"
    }
   ],
   "source": [
    "data[data.profit > 0].count()"
   ]
  },
  {
   "cell_type": "markdown",
   "metadata": {
    "colab_type": "text",
    "id": "xhpspA9KVp_A"
   },
   "source": [
    "# 9. Какой фильм оказался самым кассовым в 2008 году?"
   ]
  },
  {
   "cell_type": "code",
   "execution_count": 58,
   "metadata": {
    "colab": {},
    "colab_type": "code",
    "id": "MoUyQr9RVp_B"
   },
   "outputs": [
    {
     "data": {
      "text/html": [
       "<div>\n",
       "<style scoped>\n",
       "    .dataframe tbody tr th:only-of-type {\n",
       "        vertical-align: middle;\n",
       "    }\n",
       "\n",
       "    .dataframe tbody tr th {\n",
       "        vertical-align: top;\n",
       "    }\n",
       "\n",
       "    .dataframe thead th {\n",
       "        text-align: right;\n",
       "    }\n",
       "</style>\n",
       "<table border=\"1\" class=\"dataframe\">\n",
       "  <thead>\n",
       "    <tr style=\"text-align: right;\">\n",
       "      <th></th>\n",
       "      <th>imdb_id</th>\n",
       "      <th>budget</th>\n",
       "      <th>revenue</th>\n",
       "      <th>original_title</th>\n",
       "      <th>cast</th>\n",
       "      <th>director</th>\n",
       "      <th>tagline</th>\n",
       "      <th>overview</th>\n",
       "      <th>runtime</th>\n",
       "      <th>genres</th>\n",
       "      <th>production_companies</th>\n",
       "      <th>release_date</th>\n",
       "      <th>vote_average</th>\n",
       "      <th>release_year</th>\n",
       "      <th>profit</th>\n",
       "    </tr>\n",
       "  </thead>\n",
       "  <tbody>\n",
       "    <tr>\n",
       "      <th>599</th>\n",
       "      <td>tt0468569</td>\n",
       "      <td>185000000</td>\n",
       "      <td>1001921825</td>\n",
       "      <td>The Dark Knight</td>\n",
       "      <td>Christian Bale|Michael Caine|Heath Ledger|Aaro...</td>\n",
       "      <td>Christopher Nolan</td>\n",
       "      <td>Why So Serious?</td>\n",
       "      <td>Batman raises the stakes in his war on crime. ...</td>\n",
       "      <td>152</td>\n",
       "      <td>Drama|Action|Crime|Thriller</td>\n",
       "      <td>DC Comics|Legendary Pictures|Warner Bros.|Syncopy</td>\n",
       "      <td>7/16/2008</td>\n",
       "      <td>8.1</td>\n",
       "      <td>2008</td>\n",
       "      <td>816921825</td>\n",
       "    </tr>\n",
       "    <tr>\n",
       "      <th>603</th>\n",
       "      <td>tt0367882</td>\n",
       "      <td>185000000</td>\n",
       "      <td>786636033</td>\n",
       "      <td>Indiana Jones and the Kingdom of the Crystal S...</td>\n",
       "      <td>Harrison Ford|Cate Blanchett|Shia LaBeouf|Ray ...</td>\n",
       "      <td>Steven Spielberg</td>\n",
       "      <td>The adventure continues . . .</td>\n",
       "      <td>Set during the Cold War, the Soviets â€“ led b...</td>\n",
       "      <td>122</td>\n",
       "      <td>Adventure|Action</td>\n",
       "      <td>Lucasfilm|Paramount Pictures</td>\n",
       "      <td>5/21/2008</td>\n",
       "      <td>5.6</td>\n",
       "      <td>2008</td>\n",
       "      <td>601636033</td>\n",
       "    </tr>\n",
       "    <tr>\n",
       "      <th>607</th>\n",
       "      <td>tt0795421</td>\n",
       "      <td>52000000</td>\n",
       "      <td>609841637</td>\n",
       "      <td>Mamma Mia!</td>\n",
       "      <td>Meryl Streep|Pierce Brosnan|Amanda Seyfried|Co...</td>\n",
       "      <td>Phyllida Lloyd</td>\n",
       "      <td>Take a trip down the aisle you'll never forget</td>\n",
       "      <td>Set on an idyllic Greek island, the plot serve...</td>\n",
       "      <td>108</td>\n",
       "      <td>Comedy|Romance</td>\n",
       "      <td>Universal Pictures|Internationale Filmprodukti...</td>\n",
       "      <td>6/30/2008</td>\n",
       "      <td>6.2</td>\n",
       "      <td>2008</td>\n",
       "      <td>557841637</td>\n",
       "    </tr>\n",
       "    <tr>\n",
       "      <th>606</th>\n",
       "      <td>tt0441773</td>\n",
       "      <td>130000000</td>\n",
       "      <td>631744560</td>\n",
       "      <td>Kung Fu Panda</td>\n",
       "      <td>Jack Black|Dustin Hoffman|Angelina Jolie|Jacki...</td>\n",
       "      <td>Mark Osborne|John Stevenson</td>\n",
       "      <td>Prepare for awesomeness.</td>\n",
       "      <td>When the Valley of Peace is threatened, lazy P...</td>\n",
       "      <td>90</td>\n",
       "      <td>Animation|Family</td>\n",
       "      <td>DreamWorks Animation</td>\n",
       "      <td>6/4/2008</td>\n",
       "      <td>6.8</td>\n",
       "      <td>2008</td>\n",
       "      <td>501744560</td>\n",
       "    </tr>\n",
       "    <tr>\n",
       "      <th>621</th>\n",
       "      <td>tt0448157</td>\n",
       "      <td>150000000</td>\n",
       "      <td>624029371</td>\n",
       "      <td>Hancock</td>\n",
       "      <td>Will Smith|Charlize Theron|Jason Bateman|Jae H...</td>\n",
       "      <td>Peter Berg</td>\n",
       "      <td>Bad Behavior. Bad Attitude. Real Hero.</td>\n",
       "      <td>Hancock is a down-and-out superhero who's forc...</td>\n",
       "      <td>92</td>\n",
       "      <td>Fantasy|Action</td>\n",
       "      <td>Columbia Pictures|Weed Road Pictures|Forward P...</td>\n",
       "      <td>7/1/2008</td>\n",
       "      <td>6.0</td>\n",
       "      <td>2008</td>\n",
       "      <td>474029371</td>\n",
       "    </tr>\n",
       "    <tr>\n",
       "      <th>...</th>\n",
       "      <td>...</td>\n",
       "      <td>...</td>\n",
       "      <td>...</td>\n",
       "      <td>...</td>\n",
       "      <td>...</td>\n",
       "      <td>...</td>\n",
       "      <td>...</td>\n",
       "      <td>...</td>\n",
       "      <td>...</td>\n",
       "      <td>...</td>\n",
       "      <td>...</td>\n",
       "      <td>...</td>\n",
       "      <td>...</td>\n",
       "      <td>...</td>\n",
       "      <td>...</td>\n",
       "    </tr>\n",
       "    <tr>\n",
       "      <th>668</th>\n",
       "      <td>tt0811080</td>\n",
       "      <td>120000000</td>\n",
       "      <td>93945766</td>\n",
       "      <td>Speed Racer</td>\n",
       "      <td>Emile Hirsch|Christina Ricci|Matthew Fox|Susan...</td>\n",
       "      <td>Lana Wachowski|Lilly Wachowski</td>\n",
       "      <td>Go!</td>\n",
       "      <td>Speed Racer is the tale of a young and brillia...</td>\n",
       "      <td>135</td>\n",
       "      <td>Family|Action|Science Fiction</td>\n",
       "      <td>Village Roadshow Pictures|Studio Babelsberg|An...</td>\n",
       "      <td>5/9/2008</td>\n",
       "      <td>5.6</td>\n",
       "      <td>2008</td>\n",
       "      <td>-26054234</td>\n",
       "    </tr>\n",
       "    <tr>\n",
       "      <th>705</th>\n",
       "      <td>tt0469903</td>\n",
       "      <td>40000000</td>\n",
       "      <td>9793496</td>\n",
       "      <td>The Express</td>\n",
       "      <td>Rob Brown|Dennis Quaid|Darrin Henson|Charles S...</td>\n",
       "      <td>Gary Fleder</td>\n",
       "      <td>He changed our country... one yard at a time.</td>\n",
       "      <td>Based on the incredible true story, The Expres...</td>\n",
       "      <td>130</td>\n",
       "      <td>Drama</td>\n",
       "      <td>Davis Entertainment|Relativity Media|IDEA Film...</td>\n",
       "      <td>10/10/2008</td>\n",
       "      <td>7.1</td>\n",
       "      <td>2008</td>\n",
       "      <td>-30206504</td>\n",
       "    </tr>\n",
       "    <tr>\n",
       "      <th>682</th>\n",
       "      <td>tt0970411</td>\n",
       "      <td>55000000</td>\n",
       "      <td>17869048</td>\n",
       "      <td>City of Ember</td>\n",
       "      <td>Saoirse Ronan|Harry Treadaway|Mary Kay Place|B...</td>\n",
       "      <td>Gil Kenan</td>\n",
       "      <td>Escape is the only option</td>\n",
       "      <td>For generations, the people of the City of Emb...</td>\n",
       "      <td>90</td>\n",
       "      <td>Adventure|Family|Fantasy</td>\n",
       "      <td>Playtone|Walden Media</td>\n",
       "      <td>10/7/2008</td>\n",
       "      <td>6.1</td>\n",
       "      <td>2008</td>\n",
       "      <td>-37130952</td>\n",
       "    </tr>\n",
       "    <tr>\n",
       "      <th>679</th>\n",
       "      <td>tt0462465</td>\n",
       "      <td>50000000</td>\n",
       "      <td>7033683</td>\n",
       "      <td>Outlander</td>\n",
       "      <td>Jim Caviezel|Sophia Myles|Jack Huston|Ron Perl...</td>\n",
       "      <td>Howard McCain</td>\n",
       "      <td>It destroyed his world. He won't let it destro...</td>\n",
       "      <td>During the reign of the Vikings, a man from an...</td>\n",
       "      <td>115</td>\n",
       "      <td>Fantasy|Action|Science Fiction</td>\n",
       "      <td>Ascendant Pictures|Rising Star|VIP Medienfonds...</td>\n",
       "      <td>4/24/2008</td>\n",
       "      <td>6.0</td>\n",
       "      <td>2008</td>\n",
       "      <td>-42966317</td>\n",
       "    </tr>\n",
       "    <tr>\n",
       "      <th>636</th>\n",
       "      <td>tt0455824</td>\n",
       "      <td>130000000</td>\n",
       "      <td>49554002</td>\n",
       "      <td>Australia</td>\n",
       "      <td>Nicole Kidman|Hugh Jackman|Essie Davis|David W...</td>\n",
       "      <td>Baz Luhrmann</td>\n",
       "      <td>Welcome to Australia!</td>\n",
       "      <td>Set in northern Australia before World War II,...</td>\n",
       "      <td>165</td>\n",
       "      <td>Drama</td>\n",
       "      <td>Bazmark Films|Ingenious Film Partners|Twentiet...</td>\n",
       "      <td>11/18/2008</td>\n",
       "      <td>6.3</td>\n",
       "      <td>2008</td>\n",
       "      <td>-80445998</td>\n",
       "    </tr>\n",
       "  </tbody>\n",
       "</table>\n",
       "<p>121 rows × 15 columns</p>\n",
       "</div>"
      ],
      "text/plain": [
       "       imdb_id     budget     revenue  \\\n",
       "599  tt0468569  185000000  1001921825   \n",
       "603  tt0367882  185000000   786636033   \n",
       "607  tt0795421   52000000   609841637   \n",
       "606  tt0441773  130000000   631744560   \n",
       "621  tt0448157  150000000   624029371   \n",
       "..         ...        ...         ...   \n",
       "668  tt0811080  120000000    93945766   \n",
       "705  tt0469903   40000000     9793496   \n",
       "682  tt0970411   55000000    17869048   \n",
       "679  tt0462465   50000000     7033683   \n",
       "636  tt0455824  130000000    49554002   \n",
       "\n",
       "                                        original_title  \\\n",
       "599                                    The Dark Knight   \n",
       "603  Indiana Jones and the Kingdom of the Crystal S...   \n",
       "607                                         Mamma Mia!   \n",
       "606                                      Kung Fu Panda   \n",
       "621                                            Hancock   \n",
       "..                                                 ...   \n",
       "668                                        Speed Racer   \n",
       "705                                        The Express   \n",
       "682                                      City of Ember   \n",
       "679                                          Outlander   \n",
       "636                                          Australia   \n",
       "\n",
       "                                                  cast  \\\n",
       "599  Christian Bale|Michael Caine|Heath Ledger|Aaro...   \n",
       "603  Harrison Ford|Cate Blanchett|Shia LaBeouf|Ray ...   \n",
       "607  Meryl Streep|Pierce Brosnan|Amanda Seyfried|Co...   \n",
       "606  Jack Black|Dustin Hoffman|Angelina Jolie|Jacki...   \n",
       "621  Will Smith|Charlize Theron|Jason Bateman|Jae H...   \n",
       "..                                                 ...   \n",
       "668  Emile Hirsch|Christina Ricci|Matthew Fox|Susan...   \n",
       "705  Rob Brown|Dennis Quaid|Darrin Henson|Charles S...   \n",
       "682  Saoirse Ronan|Harry Treadaway|Mary Kay Place|B...   \n",
       "679  Jim Caviezel|Sophia Myles|Jack Huston|Ron Perl...   \n",
       "636  Nicole Kidman|Hugh Jackman|Essie Davis|David W...   \n",
       "\n",
       "                           director  \\\n",
       "599               Christopher Nolan   \n",
       "603                Steven Spielberg   \n",
       "607                  Phyllida Lloyd   \n",
       "606     Mark Osborne|John Stevenson   \n",
       "621                      Peter Berg   \n",
       "..                              ...   \n",
       "668  Lana Wachowski|Lilly Wachowski   \n",
       "705                     Gary Fleder   \n",
       "682                       Gil Kenan   \n",
       "679                   Howard McCain   \n",
       "636                    Baz Luhrmann   \n",
       "\n",
       "                                               tagline  \\\n",
       "599                                    Why So Serious?   \n",
       "603                      The adventure continues . . .   \n",
       "607     Take a trip down the aisle you'll never forget   \n",
       "606                           Prepare for awesomeness.   \n",
       "621             Bad Behavior. Bad Attitude. Real Hero.   \n",
       "..                                                 ...   \n",
       "668                                                Go!   \n",
       "705      He changed our country... one yard at a time.   \n",
       "682                          Escape is the only option   \n",
       "679  It destroyed his world. He won't let it destro...   \n",
       "636                              Welcome to Australia!   \n",
       "\n",
       "                                              overview  runtime  \\\n",
       "599  Batman raises the stakes in his war on crime. ...      152   \n",
       "603  Set during the Cold War, the Soviets â€“ led b...      122   \n",
       "607  Set on an idyllic Greek island, the plot serve...      108   \n",
       "606  When the Valley of Peace is threatened, lazy P...       90   \n",
       "621  Hancock is a down-and-out superhero who's forc...       92   \n",
       "..                                                 ...      ...   \n",
       "668  Speed Racer is the tale of a young and brillia...      135   \n",
       "705  Based on the incredible true story, The Expres...      130   \n",
       "682  For generations, the people of the City of Emb...       90   \n",
       "679  During the reign of the Vikings, a man from an...      115   \n",
       "636  Set in northern Australia before World War II,...      165   \n",
       "\n",
       "                             genres  \\\n",
       "599     Drama|Action|Crime|Thriller   \n",
       "603                Adventure|Action   \n",
       "607                  Comedy|Romance   \n",
       "606                Animation|Family   \n",
       "621                  Fantasy|Action   \n",
       "..                              ...   \n",
       "668   Family|Action|Science Fiction   \n",
       "705                           Drama   \n",
       "682        Adventure|Family|Fantasy   \n",
       "679  Fantasy|Action|Science Fiction   \n",
       "636                           Drama   \n",
       "\n",
       "                                  production_companies release_date  \\\n",
       "599  DC Comics|Legendary Pictures|Warner Bros.|Syncopy    7/16/2008   \n",
       "603                       Lucasfilm|Paramount Pictures    5/21/2008   \n",
       "607  Universal Pictures|Internationale Filmprodukti...    6/30/2008   \n",
       "606                               DreamWorks Animation     6/4/2008   \n",
       "621  Columbia Pictures|Weed Road Pictures|Forward P...     7/1/2008   \n",
       "..                                                 ...          ...   \n",
       "668  Village Roadshow Pictures|Studio Babelsberg|An...     5/9/2008   \n",
       "705  Davis Entertainment|Relativity Media|IDEA Film...   10/10/2008   \n",
       "682                              Playtone|Walden Media    10/7/2008   \n",
       "679  Ascendant Pictures|Rising Star|VIP Medienfonds...    4/24/2008   \n",
       "636  Bazmark Films|Ingenious Film Partners|Twentiet...   11/18/2008   \n",
       "\n",
       "     vote_average  release_year     profit  \n",
       "599           8.1          2008  816921825  \n",
       "603           5.6          2008  601636033  \n",
       "607           6.2          2008  557841637  \n",
       "606           6.8          2008  501744560  \n",
       "621           6.0          2008  474029371  \n",
       "..            ...           ...        ...  \n",
       "668           5.6          2008  -26054234  \n",
       "705           7.1          2008  -30206504  \n",
       "682           6.1          2008  -37130952  \n",
       "679           6.0          2008  -42966317  \n",
       "636           6.3          2008  -80445998  \n",
       "\n",
       "[121 rows x 15 columns]"
      ]
     },
     "execution_count": 58,
     "metadata": {},
     "output_type": "execute_result"
    }
   ],
   "source": [
    "data[(data.release_year == 2008)].sort_values(by = ['profit'],ascending = False)"
   ]
  },
  {
   "cell_type": "markdown",
   "metadata": {
    "colab_type": "text",
    "id": "Zi4hDKidVp_F"
   },
   "source": [
    "# 10. Самый убыточный фильм за период с 2012 по 2014 г. (включительно)?\n"
   ]
  },
  {
   "cell_type": "code",
   "execution_count": 60,
   "metadata": {
    "colab": {},
    "colab_type": "code",
    "id": "XqyRmufJVp_F"
   },
   "outputs": [
    {
     "data": {
      "text/html": [
       "<div>\n",
       "<style scoped>\n",
       "    .dataframe tbody tr th:only-of-type {\n",
       "        vertical-align: middle;\n",
       "    }\n",
       "\n",
       "    .dataframe tbody tr th {\n",
       "        vertical-align: top;\n",
       "    }\n",
       "\n",
       "    .dataframe thead th {\n",
       "        text-align: right;\n",
       "    }\n",
       "</style>\n",
       "<table border=\"1\" class=\"dataframe\">\n",
       "  <thead>\n",
       "    <tr style=\"text-align: right;\">\n",
       "      <th></th>\n",
       "      <th>imdb_id</th>\n",
       "      <th>budget</th>\n",
       "      <th>revenue</th>\n",
       "      <th>original_title</th>\n",
       "      <th>cast</th>\n",
       "      <th>director</th>\n",
       "      <th>tagline</th>\n",
       "      <th>overview</th>\n",
       "      <th>runtime</th>\n",
       "      <th>genres</th>\n",
       "      <th>production_companies</th>\n",
       "      <th>release_date</th>\n",
       "      <th>vote_average</th>\n",
       "      <th>release_year</th>\n",
       "      <th>profit</th>\n",
       "    </tr>\n",
       "  </thead>\n",
       "  <tbody>\n",
       "    <tr>\n",
       "      <th>1245</th>\n",
       "      <td>tt1210819</td>\n",
       "      <td>255000000</td>\n",
       "      <td>89289910</td>\n",
       "      <td>The Lone Ranger</td>\n",
       "      <td>Johnny Depp|Armie Hammer|William Fichtner|Hele...</td>\n",
       "      <td>Gore Verbinski</td>\n",
       "      <td>Never Take Off the Mask</td>\n",
       "      <td>The Texas Rangers chase down a gang of outlaws...</td>\n",
       "      <td>149</td>\n",
       "      <td>Action|Adventure|Western</td>\n",
       "      <td>Walt Disney Pictures|Jerry Bruckheimer Films|I...</td>\n",
       "      <td>7/3/2013</td>\n",
       "      <td>6.0</td>\n",
       "      <td>2013</td>\n",
       "      <td>-165710090</td>\n",
       "    </tr>\n",
       "    <tr>\n",
       "      <th>1214</th>\n",
       "      <td>tt0790736</td>\n",
       "      <td>130000000</td>\n",
       "      <td>61648500</td>\n",
       "      <td>R.I.P.D.</td>\n",
       "      <td>Jeff Bridges|Ryan Reynolds|Kevin Bacon|Stephan...</td>\n",
       "      <td>Robert Schwentke</td>\n",
       "      <td>To protect and serve the living</td>\n",
       "      <td>A recently slain cop joins a team of undead po...</td>\n",
       "      <td>96</td>\n",
       "      <td>Fantasy|Action|Comedy|Crime</td>\n",
       "      <td>Universal Pictures|Original Film|Dark Horse En...</td>\n",
       "      <td>7/18/2013</td>\n",
       "      <td>5.3</td>\n",
       "      <td>2013</td>\n",
       "      <td>-68351500</td>\n",
       "    </tr>\n",
       "    <tr>\n",
       "      <th>1007</th>\n",
       "      <td>tt1374992</td>\n",
       "      <td>60000000</td>\n",
       "      <td>8106475</td>\n",
       "      <td>Upside Down</td>\n",
       "      <td>Kirsten Dunst|Jim Sturgess|Timothy Spall|James...</td>\n",
       "      <td>Juan Diego Solanas</td>\n",
       "      <td>Two worlds. One future.</td>\n",
       "      <td>In an alternate universe where twinned worlds ...</td>\n",
       "      <td>104</td>\n",
       "      <td>Romance|Science Fiction|Drama|Fantasy</td>\n",
       "      <td>Onyx Films|Studio 37|Jouror Productions|France...</td>\n",
       "      <td>9/27/2012</td>\n",
       "      <td>6.1</td>\n",
       "      <td>2012</td>\n",
       "      <td>-51893525</td>\n",
       "    </tr>\n",
       "    <tr>\n",
       "      <th>1302</th>\n",
       "      <td>tt0884726</td>\n",
       "      <td>70000000</td>\n",
       "      <td>18662027</td>\n",
       "      <td>Legends of Oz: Dorothy's Return</td>\n",
       "      <td>Lea Michele|Dan Aykroyd|Patrick Stewart|Hugh D...</td>\n",
       "      <td>Dan St. Pierre</td>\n",
       "      <td>There's trouble in OZ...</td>\n",
       "      <td>Dorothy wakes up in post-tornado Kansas, only ...</td>\n",
       "      <td>88</td>\n",
       "      <td>Animation|Music|Family</td>\n",
       "      <td>Prana Animation Studios|Summertime Entertainment</td>\n",
       "      <td>6/13/2013</td>\n",
       "      <td>6.1</td>\n",
       "      <td>2013</td>\n",
       "      <td>-51337973</td>\n",
       "    </tr>\n",
       "    <tr>\n",
       "      <th>1235</th>\n",
       "      <td>tt1308729</td>\n",
       "      <td>55000000</td>\n",
       "      <td>9489829</td>\n",
       "      <td>Bullet to the Head</td>\n",
       "      <td>Sylvester Stallone|Sung Kang|Sarah Shahi|Adewa...</td>\n",
       "      <td>Walter Hill</td>\n",
       "      <td>Revenge Never Gets Old.</td>\n",
       "      <td>After watching their respective partners die, ...</td>\n",
       "      <td>92</td>\n",
       "      <td>Action|Crime|Thriller</td>\n",
       "      <td>Dark Castle Entertainment|After Dark Films|IM ...</td>\n",
       "      <td>1/31/2013</td>\n",
       "      <td>5.2</td>\n",
       "      <td>2013</td>\n",
       "      <td>-45510171</td>\n",
       "    </tr>\n",
       "    <tr>\n",
       "      <th>...</th>\n",
       "      <td>...</td>\n",
       "      <td>...</td>\n",
       "      <td>...</td>\n",
       "      <td>...</td>\n",
       "      <td>...</td>\n",
       "      <td>...</td>\n",
       "      <td>...</td>\n",
       "      <td>...</td>\n",
       "      <td>...</td>\n",
       "      <td>...</td>\n",
       "      <td>...</td>\n",
       "      <td>...</td>\n",
       "      <td>...</td>\n",
       "      <td>...</td>\n",
       "      <td>...</td>\n",
       "    </tr>\n",
       "    <tr>\n",
       "      <th>1189</th>\n",
       "      <td>tt1690953</td>\n",
       "      <td>76000000</td>\n",
       "      <td>970761885</td>\n",
       "      <td>Despicable Me 2</td>\n",
       "      <td>Steve Carell|Kristen Wiig|Benjamin Bratt|Miran...</td>\n",
       "      <td>Pierre Coffin|Chris Renaud</td>\n",
       "      <td>Back 2 Work</td>\n",
       "      <td>Gru is recruited by the Anti-Villain League to...</td>\n",
       "      <td>98</td>\n",
       "      <td>Animation|Comedy|Family</td>\n",
       "      <td>Universal Pictures|Illumination Entertainment</td>\n",
       "      <td>6/25/2013</td>\n",
       "      <td>7.0</td>\n",
       "      <td>2013</td>\n",
       "      <td>894761885</td>\n",
       "    </tr>\n",
       "    <tr>\n",
       "      <th>974</th>\n",
       "      <td>tt1074638</td>\n",
       "      <td>200000000</td>\n",
       "      <td>1108561013</td>\n",
       "      <td>Skyfall</td>\n",
       "      <td>Daniel Craig|Judi Dench|Javier Bardem|Ralph Fi...</td>\n",
       "      <td>Sam Mendes</td>\n",
       "      <td>Think on your sins.</td>\n",
       "      <td>When Bond's latest assignment goes gravely wro...</td>\n",
       "      <td>143</td>\n",
       "      <td>Action|Adventure|Thriller</td>\n",
       "      <td>Columbia Pictures</td>\n",
       "      <td>10/25/2012</td>\n",
       "      <td>6.8</td>\n",
       "      <td>2012</td>\n",
       "      <td>908561013</td>\n",
       "    </tr>\n",
       "    <tr>\n",
       "      <th>1180</th>\n",
       "      <td>tt1300854</td>\n",
       "      <td>200000000</td>\n",
       "      <td>1215439994</td>\n",
       "      <td>Iron Man 3</td>\n",
       "      <td>Robert Downey Jr.|Gwyneth Paltrow|Guy Pearce|D...</td>\n",
       "      <td>Shane Black</td>\n",
       "      <td>Unleash the power behind the armor.</td>\n",
       "      <td>When Tony Stark's world is torn apart by a for...</td>\n",
       "      <td>130</td>\n",
       "      <td>Action|Adventure|Science Fiction</td>\n",
       "      <td>Marvel Studios</td>\n",
       "      <td>4/18/2013</td>\n",
       "      <td>6.9</td>\n",
       "      <td>2013</td>\n",
       "      <td>1015439994</td>\n",
       "    </tr>\n",
       "    <tr>\n",
       "      <th>1177</th>\n",
       "      <td>tt2294629</td>\n",
       "      <td>150000000</td>\n",
       "      <td>1274219009</td>\n",
       "      <td>Frozen</td>\n",
       "      <td>Kristen Bell|Idina Menzel|Jonathan Groff|Josh ...</td>\n",
       "      <td>Chris Buck|Jennifer Lee</td>\n",
       "      <td>Only the act of true love will thaw a frozen h...</td>\n",
       "      <td>Young princess Anna of Arendelle dreams about ...</td>\n",
       "      <td>102</td>\n",
       "      <td>Animation|Adventure|Family</td>\n",
       "      <td>Walt Disney Pictures|Walt Disney Animation Stu...</td>\n",
       "      <td>11/27/2013</td>\n",
       "      <td>7.5</td>\n",
       "      <td>2013</td>\n",
       "      <td>1124219009</td>\n",
       "    </tr>\n",
       "    <tr>\n",
       "      <th>970</th>\n",
       "      <td>tt0848228</td>\n",
       "      <td>220000000</td>\n",
       "      <td>1519557910</td>\n",
       "      <td>The Avengers</td>\n",
       "      <td>Robert Downey Jr.|Chris Evans|Mark Ruffalo|Chr...</td>\n",
       "      <td>Joss Whedon</td>\n",
       "      <td>Some assembly required.</td>\n",
       "      <td>When an unexpected enemy emerges and threatens...</td>\n",
       "      <td>143</td>\n",
       "      <td>Science Fiction|Action|Adventure</td>\n",
       "      <td>Marvel Studios</td>\n",
       "      <td>4/25/2012</td>\n",
       "      <td>7.3</td>\n",
       "      <td>2012</td>\n",
       "      <td>1299557910</td>\n",
       "    </tr>\n",
       "  </tbody>\n",
       "</table>\n",
       "<p>367 rows × 15 columns</p>\n",
       "</div>"
      ],
      "text/plain": [
       "        imdb_id     budget     revenue                   original_title  \\\n",
       "1245  tt1210819  255000000    89289910                  The Lone Ranger   \n",
       "1214  tt0790736  130000000    61648500                         R.I.P.D.   \n",
       "1007  tt1374992   60000000     8106475                      Upside Down   \n",
       "1302  tt0884726   70000000    18662027  Legends of Oz: Dorothy's Return   \n",
       "1235  tt1308729   55000000     9489829               Bullet to the Head   \n",
       "...         ...        ...         ...                              ...   \n",
       "1189  tt1690953   76000000   970761885                  Despicable Me 2   \n",
       "974   tt1074638  200000000  1108561013                          Skyfall   \n",
       "1180  tt1300854  200000000  1215439994                       Iron Man 3   \n",
       "1177  tt2294629  150000000  1274219009                           Frozen   \n",
       "970   tt0848228  220000000  1519557910                     The Avengers   \n",
       "\n",
       "                                                   cast  \\\n",
       "1245  Johnny Depp|Armie Hammer|William Fichtner|Hele...   \n",
       "1214  Jeff Bridges|Ryan Reynolds|Kevin Bacon|Stephan...   \n",
       "1007  Kirsten Dunst|Jim Sturgess|Timothy Spall|James...   \n",
       "1302  Lea Michele|Dan Aykroyd|Patrick Stewart|Hugh D...   \n",
       "1235  Sylvester Stallone|Sung Kang|Sarah Shahi|Adewa...   \n",
       "...                                                 ...   \n",
       "1189  Steve Carell|Kristen Wiig|Benjamin Bratt|Miran...   \n",
       "974   Daniel Craig|Judi Dench|Javier Bardem|Ralph Fi...   \n",
       "1180  Robert Downey Jr.|Gwyneth Paltrow|Guy Pearce|D...   \n",
       "1177  Kristen Bell|Idina Menzel|Jonathan Groff|Josh ...   \n",
       "970   Robert Downey Jr.|Chris Evans|Mark Ruffalo|Chr...   \n",
       "\n",
       "                        director  \\\n",
       "1245              Gore Verbinski   \n",
       "1214            Robert Schwentke   \n",
       "1007          Juan Diego Solanas   \n",
       "1302              Dan St. Pierre   \n",
       "1235                 Walter Hill   \n",
       "...                          ...   \n",
       "1189  Pierre Coffin|Chris Renaud   \n",
       "974                   Sam Mendes   \n",
       "1180                 Shane Black   \n",
       "1177     Chris Buck|Jennifer Lee   \n",
       "970                  Joss Whedon   \n",
       "\n",
       "                                                tagline  \\\n",
       "1245                            Never Take Off the Mask   \n",
       "1214                    To protect and serve the living   \n",
       "1007                            Two worlds. One future.   \n",
       "1302                           There's trouble in OZ...   \n",
       "1235                            Revenge Never Gets Old.   \n",
       "...                                                 ...   \n",
       "1189                                        Back 2 Work   \n",
       "974                                 Think on your sins.   \n",
       "1180                Unleash the power behind the armor.   \n",
       "1177  Only the act of true love will thaw a frozen h...   \n",
       "970                             Some assembly required.   \n",
       "\n",
       "                                               overview  runtime  \\\n",
       "1245  The Texas Rangers chase down a gang of outlaws...      149   \n",
       "1214  A recently slain cop joins a team of undead po...       96   \n",
       "1007  In an alternate universe where twinned worlds ...      104   \n",
       "1302  Dorothy wakes up in post-tornado Kansas, only ...       88   \n",
       "1235  After watching their respective partners die, ...       92   \n",
       "...                                                 ...      ...   \n",
       "1189  Gru is recruited by the Anti-Villain League to...       98   \n",
       "974   When Bond's latest assignment goes gravely wro...      143   \n",
       "1180  When Tony Stark's world is torn apart by a for...      130   \n",
       "1177  Young princess Anna of Arendelle dreams about ...      102   \n",
       "970   When an unexpected enemy emerges and threatens...      143   \n",
       "\n",
       "                                     genres  \\\n",
       "1245               Action|Adventure|Western   \n",
       "1214            Fantasy|Action|Comedy|Crime   \n",
       "1007  Romance|Science Fiction|Drama|Fantasy   \n",
       "1302                 Animation|Music|Family   \n",
       "1235                  Action|Crime|Thriller   \n",
       "...                                     ...   \n",
       "1189                Animation|Comedy|Family   \n",
       "974               Action|Adventure|Thriller   \n",
       "1180       Action|Adventure|Science Fiction   \n",
       "1177             Animation|Adventure|Family   \n",
       "970        Science Fiction|Action|Adventure   \n",
       "\n",
       "                                   production_companies release_date  \\\n",
       "1245  Walt Disney Pictures|Jerry Bruckheimer Films|I...     7/3/2013   \n",
       "1214  Universal Pictures|Original Film|Dark Horse En...    7/18/2013   \n",
       "1007  Onyx Films|Studio 37|Jouror Productions|France...    9/27/2012   \n",
       "1302   Prana Animation Studios|Summertime Entertainment    6/13/2013   \n",
       "1235  Dark Castle Entertainment|After Dark Films|IM ...    1/31/2013   \n",
       "...                                                 ...          ...   \n",
       "1189      Universal Pictures|Illumination Entertainment    6/25/2013   \n",
       "974                                   Columbia Pictures   10/25/2012   \n",
       "1180                                     Marvel Studios    4/18/2013   \n",
       "1177  Walt Disney Pictures|Walt Disney Animation Stu...   11/27/2013   \n",
       "970                                      Marvel Studios    4/25/2012   \n",
       "\n",
       "      vote_average  release_year      profit  \n",
       "1245           6.0          2013  -165710090  \n",
       "1214           5.3          2013   -68351500  \n",
       "1007           6.1          2012   -51893525  \n",
       "1302           6.1          2013   -51337973  \n",
       "1235           5.2          2013   -45510171  \n",
       "...            ...           ...         ...  \n",
       "1189           7.0          2013   894761885  \n",
       "974            6.8          2012   908561013  \n",
       "1180           6.9          2013  1015439994  \n",
       "1177           7.5          2013  1124219009  \n",
       "970            7.3          2012  1299557910  \n",
       "\n",
       "[367 rows x 15 columns]"
      ]
     },
     "execution_count": 60,
     "metadata": {},
     "output_type": "execute_result"
    }
   ],
   "source": [
    "data[( data.release_year <= 2014)&( data.release_year >= 2012)].sort_values(by = ['profit'],ascending = True)"
   ]
  },
  {
   "cell_type": "markdown",
   "metadata": {
    "colab_type": "text",
    "id": "EA7Sa9dkVp_I"
   },
   "source": [
    "# 11. Какого жанра фильмов больше всего?"
   ]
  },
  {
   "cell_type": "code",
   "execution_count": 0,
   "metadata": {
    "colab": {},
    "colab_type": "code",
    "id": "zsJAwJ8QVp_J"
   },
   "outputs": [],
   "source": [
    "# эту задачу тоже можно решать разными подходами, попробуй реализовать разные варианты\n",
    "# если будешь добавлять функцию - выноси ее в предобработку что в начале\n"
   ]
  },
  {
   "cell_type": "markdown",
   "metadata": {
    "colab_type": "text",
    "id": "Ax6g2C8SVp_M"
   },
   "source": [
    "ВАРИАНТ 2"
   ]
  },
  {
   "cell_type": "code",
   "execution_count": 260,
   "metadata": {
    "colab": {},
    "colab_type": "code",
    "id": "otO3SbrSVp_N"
   },
   "outputs": [
    {
     "name": "stdout",
     "output_type": "stream",
     "text": [
      "Counter({'Drama': 782, 'Comedy': 683, 'Thriller': 596, 'Action': 582, 'Adventure': 415, 'Crime': 315, 'Romance': 308, 'Family': 260, 'Science Fiction': 248, 'Fantasy': 222, 'Horror': 176, 'Mystery': 168, 'Animation': 139, 'Music': 64, 'History': 62, 'War': 58, 'Western': 19, 'Documentary': 8, 'Foreign': 2})\n"
     ]
    }
   ],
   "source": [
    "#data.genres.describe()\n",
    "\n",
    "data['genres'] = data['genres'].apply(lambda x:x.split('|'))\n",
    "import collections\n",
    "c = collections.Counter()\n",
    "for category in data['genres']:\n",
    "    for genre in category:\n",
    "        c[genre] += 1\n",
    "print (c)"
   ]
  },
  {
   "cell_type": "markdown",
   "metadata": {
    "colab_type": "text",
    "id": "T9_bPWpkVp_Q"
   },
   "source": [
    "# 12. Фильмы какого жанра чаще всего становятся прибыльными? "
   ]
  },
  {
   "cell_type": "code",
   "execution_count": 279,
   "metadata": {
    "colab": {},
    "colab_type": "code",
    "id": "Tmt8MaK1Vp_R"
   },
   "outputs": [
    {
     "name": "stdout",
     "output_type": "stream",
     "text": [
      "Counter({'Drama': 560, 'Comedy': 551, 'Thriller': 446, 'Action': 444, 'Adventure': 337, 'Romance': 242, 'Crime': 231, 'Family': 226, 'Science Fiction': 195, 'Fantasy': 188, 'Horror': 150, 'Animation': 120, 'Mystery': 119, 'Music': 47, 'History': 46, 'War': 41, 'Western': 12, 'Documentary': 7})\n"
     ]
    }
   ],
   "source": [
    "data = pd.read_csv('movie_bd_v5.csv.xlw')\n",
    "profit = data.revenue - data.budget\n",
    "data['profit'] = profit\n",
    "\n",
    "data['genres'] = data['genres'].apply(lambda x:x.split('|'))\n",
    "data1 = data[data.profit > 0]\n",
    "import collections\n",
    "c = collections.Counter()\n",
    "for string in data1['genres']:\n",
    "    for genre in string:\n",
    "        c[genre] += 1\n",
    "print (c)\n",
    "#import collections\n",
    "#c = collections.Counter()\n"
   ]
  },
  {
   "cell_type": "markdown",
   "metadata": {
    "colab_type": "text",
    "id": "0F23bgsDVp_U"
   },
   "source": [
    "# 13. У какого режиссера самые большие суммарные кассовые сбооры?"
   ]
  },
  {
   "cell_type": "code",
   "execution_count": 275,
   "metadata": {
    "colab": {},
    "colab_type": "code",
    "id": "K6Z3J8ygVp_X"
   },
   "outputs": [
    {
     "data": {
      "text/plain": [
       "director\n",
       "Peter Jackson        6490593685\n",
       "Christopher Nolan    4167548502\n",
       "David Yates          4154295625\n",
       "Michael Bay          3886938960\n",
       "J.J. Abrams          3579169916\n",
       "                        ...    \n",
       "David MichÃ´d           2295423\n",
       "Steven Shainberg        2281089\n",
       "Paul Schrader           2062066\n",
       "Keanu Reeves            2054941\n",
       "Simon Hunter            2033165\n",
       "Name: revenue, Length: 957, dtype: int64"
      ]
     },
     "execution_count": 275,
     "metadata": {},
     "output_type": "execute_result"
    }
   ],
   "source": [
    "data = pd.read_csv('movie_bd_v5.csv.xlw')\n",
    "profit = data.revenue - data.budget\n",
    "data['profit'] = profit\n",
    "\n",
    "#получим суммарные кассовые сборы по режиссерам\n",
    "data.groupby(['director'])['revenue'].sum().sort_values(ascending = False)"
   ]
  },
  {
   "cell_type": "markdown",
   "metadata": {
    "colab_type": "text",
    "id": "PsYC9FgRVp_a"
   },
   "source": [
    "# 14. Какой режисер снял больше всего фильмов в стиле Action?"
   ]
  },
  {
   "cell_type": "code",
   "execution_count": 310,
   "metadata": {
    "colab": {},
    "colab_type": "code",
    "id": "wd2M-wHeVp_b"
   },
   "outputs": [
    {
     "name": "stdout",
     "output_type": "stream",
     "text": [
      "Counter({'Robert Rodriguez': 9, 'Michael Bay': 7, 'Paul W.S. Anderson': 7, 'Antoine Fuqua': 6, 'Ridley Scott': 6, 'Brett Ratner': 5, 'Quentin Tarantino': 5, 'Zack Snyder': 5, 'Roland Emmerich': 5, 'Andrzej Bartkowiak': 5, 'Louis Leterrier': 5, 'Tony Scott': 5, 'Paul Greengrass': 5, 'Peter Jackson': 5, 'Lee Tamahori': 5, 'Gore Verbinski': 5, 'Rob Cohen': 5, 'Peter Berg': 5, 'J.J. Abrams': 4, 'Lana Wachowski': 4, 'Lilly Wachowski': 4, 'Olivier Megaton': 4, 'Guy Ritchie': 4, 'Bryan Singer': 4, 'Tim Story': 4, 'Renny Harlin': 4, 'Mark Neveldine': 4, 'Brian Taylor': 4, 'Dominic Sena': 4, 'Justin Lin': 4, 'Christopher Nolan': 4, 'Simon West': 4, 'John Moore': 4, 'Steven Spielberg': 4, 'Martin Campbell': 4, 'John Singleton': 4, 'Len Wiseman': 4, 'Brad Bird': 3, 'Matthew Vaughn': 3, 'Neill Blomkamp': 3, 'Jaume Collet-Serra': 3, 'Breck Eisner': 3, 'Pierre Morel': 3, 'David Ayer': 3, 'Doug Liman': 3, 'Clint Eastwood': 3, 'Phil Lord': 3, 'Christopher Miller': 3, 'McG': 3, 'Stephen Sommers': 3, 'Shawn Levy': 3, 'Jonathan Mostow': 3, 'Jon Favreau': 3, 'Jon Turteltaub': 3, 'Joe Carnahan': 3, 'M. Night Shyamalan': 3, 'Harald Zwart': 3, 'Marc Forster': 3, 'D.J. Caruso': 3, 'Edward Zwick': 3, 'Sam Raimi': 3, 'Barry Sonnenfeld': 3, 'Guillermo del Toro': 3, 'John Woo': 3, 'Uwe Boll': 3, 'David Twohy': 3, 'James Wan': 2, 'Alan Taylor': 2, 'Sam Mendes': 2, 'Joss Whedon': 2, 'Peyton Reed': 2, 'Brad Peyton': 2, 'Wes Ball': 2, 'Michael Mann': 2, 'Paul Feig': 2, 'Ron Howard': 2, 'Camille Delamarre': 2, 'Luc Besson': 2, 'Jonathan Liebesman': 2, 'Matt Reeves': 2, 'Marc Webb': 2, 'Evan Goldberg': 2, 'Seth Rogen': 2, 'Roger Donaldson': 2, 'J.C. Chandor': 2, 'Kenneth Branagh': 2, 'Scott Waugh': 2, 'Alex Proyas': 2, 'James McTeigue': 2, 'NimrÃ³d Antal': 2, 'Gavin Hood': 2, 'Sylvester Stallone': 2, 'Joseph Kosinski': 2, 'Edgar Wright': 2, 'Robert Schwentke': 2, 'James Mangold': 2, 'Neil Marshall': 2, 'Kevin Munroe': 2, 'Peter Howitt': 2, 'Frank Oz': 2, 'Joe Johnston': 2, 'Peter Hyams': 2, 'Timur Bekmambetov': 2, 'David Gordon Green': 2, 'Pete Travis': 2, 'Frank Miller': 2, 'Jason Friedberg': 2, 'Aaron Seltzer': 2, 'Rob Marshall': 2, 'Andrew Niccol': 2, 'Marcus Nispel': 2, 'Ruben Fleischer': 2, 'George Lucas': 2, 'Andrew Davis': 2, 'Walter Hill': 2, 'Rob Bowman': 2, 'Ang Lee': 2, 'Baltasar KormÃ¡kur': 2, 'Mark Steven Johnson': 2, 'F. Gary Gray': 2, 'David Dobkin': 2, 'Clark Johnson': 2, 'Richard Donner': 2, 'William Friedkin': 2, 'Francis Lawrence': 2, 'Courtney Solomon': 2, 'David R. Ellis': 2, 'David S. Goyer': 2, 'Colin Trevorrow': 1, 'George Miller': 1, 'Chris Columbus': 1, 'Christopher McQuarrie': 1, 'Ilya Naishuller': 1, 'Ericson Core': 1, 'Denis Villeneuve': 1, 'Josh Trank': 1, 'Aleksander Bach': 1, 'Andy Fickman': 1, 'John Erick Dowdle': 1, 'Anne Fletcher': 1, 'James Gunn': 1, 'Joe Russo': 1, 'Anthony Russo': 1, 'Chad Stahelski': 1, 'David Leitch': 1, 'Don Hall': 1, 'Chris Williams': 1, 'Neil Burger': 1, 'Gareth Edwards': 1, 'Robert Stromberg': 1, 'Dean DeBlois': 1, 'Patrick Hughes': 1, 'Gary Shore': 1, 'Noam Murro': 1, 'Vic Armstrong': 1, 'JosÃ© Padilha': 1, 'George Clooney': 1, 'Brian A Miller': 1, 'Steven Quale': 1, 'Adam Wingard': 1, 'James Cameron': 1, 'Patrick Tatopoulos': 1, 'Shane Acker': 1, 'Steve Carr': 1, 'Christian Alvart': 1, 'Hoyt Yeatman': 1, 'Kevin Macdonald': 1, 'Michael Spierig': 1, 'Peter Spierig': 1, 'Paul McGuigan': 1, 'Troy Duffy': 1, 'Paul Weitz': 1, 'David Bowers': 1, 'Daniel Barber': 1, 'Michael J. Bassett': 1, 'Pierre Coffin': 1, 'Chris Renaud': 1, 'Phillip Noyce': 1, 'Florian Henckel von Donnersmarck': 1, 'Mike Newell': 1, 'Ethan Maniquis': 1, 'Albert Hughes': 1, 'Allen Hughes': 1, 'Tom McGrath': 1, 'Adam McKay': 1, 'Miguel Sapochnik': 1, 'Andy Tennant': 1, 'Jonathan Lynn': 1, 'Jimmy Hayward': 1, 'Robert Luketic': 1, 'John Luessenhop': 1, 'Kevin Smith': 1, 'Jorma Taccone': 1, 'Brian Levant': 1, 'Stuart Beattie': 1, 'Tim Burton': 1, 'Brian Helgeland': 1, 'John A. Davis': 1, 'Chris Nahon': 1, 'Hironobu Sakaguchi': 1, 'Motonori Sakakibara': 1, 'Rod Lurie': 1, 'John Herzfeld': 1, 'Ivan Reitman': 1, 'Demian Lichtenstein': 1, 'John Carpenter': 1, 'Bobby Farrelly': 1, 'Peter Farrelly': 1, 'Barry Levinson': 1, 'Luke Greenfield': 1, 'Les Mayfield': 1, 'Henry Selick': 1, 'Rob Pritts': 1, 'Ernest R. Dickerson': 1, 'DJ Pooh': 1, 'Eric Brevig': 1, 'Ben Stiller': 1, 'Jeff Wadlow': 1, 'Lexi Alexander': 1, 'Peter Segal': 1, 'Mathieu Kassovitz': 1, 'Rob Minkoff': 1, 'Jon Avnet': 1, 'Dennis Dugan': 1, 'Howard McCain': 1, 'Oxide Pang Chun': 1, 'Danny Pang': 1, 'Craig Mazin': 1, 'Simon Hunter': 1, 'Nicolas Winding Refn': 1, 'Rupert Wyatt': 1, 'Patrick Lussier': 1, 'Gary McKendry': 1, 'Scott Stewart': 1, 'Tarsem Singh': 1, 'Chris Gorak': 1, 'Chris Miller': 1, 'Michel Gondry': 1, 'Oliver Parker': 1, 'Joe Cornish': 1, 'Joe Wright': 1, 'John Michael McDonagh': 1, 'Alister Grierson': 1, 'Sean McNamara': 1, 'John Whitesell': 1, 'Benny Chan': 1, 'Corey Yuen Kwai': 1, 'Stuart Baird': 1, 'Kurt Wimmer': 1, 'Jay Roach': 1, 'Jim Gillespie': 1, 'Chuck Russell': 1, 'Betty Thomas': 1, 'Randall Wallace': 1, 'Ron Shelton': 1, 'Simon Wells': 1, 'Roger Michell': 1, 'Michael Apted': 1, 'Tom Dey': 1, 'Joel Schumacher': 1, 'Luis Mandoki': 1, 'Tamra Davis': 1, 'Ron Underwood': 1, 'Kevin Bray': 1, 'Malcolm D. Lee': 1, 'MÃ¥ns MÃ¥rlind': 1, 'BjÃ¶rn Stein': 1, 'Tony Gilroy': 1, 'Mark Andrews': 1, 'Steve Purcell': 1, 'Brenda Chapman': 1, 'Boaz Yakin': 1, 'Andrew Stanton': 1, 'Rian Johnson': 1, 'Mike McCoy': 1, 'Stephen St. Leger': 1, 'James Mather': 1, 'Daniel Espinosa': 1, 'Asger Leth': 1, 'Mabrouk El Mechri': 1, 'Dan Bradley': 1, 'Julie Anne Robinson': 1, 'Anthony Hemingway': 1, 'David Koepp': 1, 'David Barrett': 1, 'Stephen Norrington': 1, 'Jan de Bont': 1, 'Jon Amiel': 1, 'John McTiernan': 1, 'Shane Black': 1, 'Tommy Wirkola': 1, 'Carl Rinsch': 1, 'Gary Fleder': 1, 'Mikael HÃ¥fstrÃ¶m': 1, 'Taylor Hackford': 1, 'Steven Knight': 1, 'Spike Lee': 1, 'Dito Montiel': 1, 'Keanu Reeves': 1, 'Fyodor Bondarchuk': 1, 'Karyn Kusama': 1, 'Adam Shankman': 1, 'John Stockwell': 1, 'Sydney Pollack': 1, 'Terry Gilliam': 1, 'Jay Chandrasekhar': 1, 'Richard Shepard': 1, 'John Dahl': 1, 'Bruce Hunt': 1, 'Alfonso CuarÃ³n': 1, 'Stefen Fangmeier': 1, 'Mel Gibson': 1, 'Bruce Beresford': 1, 'Wolfgang Petersen': 1, 'Jeff Tremaine': 1, 'John Bonito': 1, 'Geoffrey Sax': 1, 'Tony Bill': 1, 'Wayne Kramer': 1, 'Sanjay Gadhvi': 1, 'Phil Joanou': 1, 'Alexander Witt': 1, 'Bibo Bergeron': 1, 'Vicky Jenson': 1, 'Rob Letterman': 1, 'Kerry Conran': 1, 'Oliver Stone': 1, 'Jonathan Hensleigh': 1, 'Pitof': 1, 'Philip Kaufman': 1, 'Trey Parker': 1, 'Steven Brill': 1, 'Frank Coraci': 1, 'Paul Abascal': 1, 'Joseph Kahn': 1, 'David Mamet': 1, 'Jay Russell': 1, 'Robert Redford': 1, 'Philip G. Atwell': 1, 'Michael Davis': 1, 'Xavier Gens': 1, 'Eli Roth': 1, 'Rob Zombie': 1, 'Jason Eisener': 1, 'Dave Meyers': 1, 'Russell Mulcahy': 1, 'Andrew Dominik': 1, 'Doug Lefler': 1, 'David Leland': 1, 'Feng Xiaogang': 1, 'Ben Garant': 1, 'Joel Coen': 1, 'Donald Petrie': 1, 'Paul Verhoeven': 1, 'Roger Spottiswoode': 1, 'Antony Hoffman': 1, 'Stephen T. Kay': 1, 'Don Bluth': 1, 'Gary Goldman': 1, 'Christian Duguay': 1, 'Douglas Aarniokoski': 1, 'Gina Prince-Bythewood': 1, 'Brian Robbins': 1, 'Des McAnuff': 1})\n"
     ]
    },
    {
     "name": "stderr",
     "output_type": "stream",
     "text": [
      "<ipython-input-310-ba8866a2cbbb>:9: SettingWithCopyWarning: \n",
      "A value is trying to be set on a copy of a slice from a DataFrame.\n",
      "Try using .loc[row_indexer,col_indexer] = value instead\n",
      "\n",
      "See the caveats in the documentation: https://pandas.pydata.org/pandas-docs/stable/user_guide/indexing.html#returning-a-view-versus-a-copy\n",
      "  data2['director'] = data2['director'].apply(lambda x:x.split('|'))\n"
     ]
    }
   ],
   "source": [
    "data = pd.read_csv('movie_bd_v5.csv.xlw')\n",
    "profit = data.revenue - data.budget\n",
    "data['profit'] = profit\n",
    "\n",
    "import collections\n",
    "\n",
    "c = collections.Counter()\n",
    "data2 = data[data.genres.str.contains('Action', na = False)]\n",
    "data2['director'] = data2['director'].apply(lambda x:x.split('|'))\n",
    "for line in data2['director']:\n",
    "    for person in line:\n",
    "        c[person] += 1\n",
    "print(c)"
   ]
  },
  {
   "cell_type": "markdown",
   "metadata": {
    "colab_type": "text",
    "id": "PQ0KciD7Vp_f"
   },
   "source": [
    "# 15. Фильмы с каким актером принесли самые высокие кассовые сборы в 2012 году? "
   ]
  },
  {
   "cell_type": "code",
   "execution_count": 318,
   "metadata": {
    "colab": {},
    "colab_type": "code",
    "id": "aga62oeKVp_g"
   },
   "outputs": [
    {
     "name": "stdout",
     "output_type": "stream",
     "text": [
      "Counter({'Chris Hemsworth': 2, 'Anne Hathaway': 2, 'Ralph Fiennes': 2, 'Charlize Theron': 2, 'Denis Leary': 2, 'Emma Thompson': 2, 'Kristen Stewart': 2, 'Seann William Scott': 2, 'Rosamund Pike': 2, 'Josh Hutcherson': 2, 'Liam Neeson': 2, 'Hugh Jackman': 2, 'Taylor Kitsch': 2, 'Sacha Baron Cohen': 2, 'Robert Downey Jr.': 1, 'Chris Evans': 1, 'Mark Ruffalo': 1, 'Scarlett Johansson': 1, 'Christian Bale': 1, 'Michael Caine': 1, 'Gary Oldman': 1, 'Tom Hardy': 1, 'Jamie Foxx': 1, 'Christoph Waltz': 1, 'Leonardo DiCaprio': 1, 'Kerry Washington': 1, 'Samuel L. Jackson': 1, 'Daniel Craig': 1, 'Judi Dench': 1, 'Javier Bardem': 1, 'Naomie Harris': 1, 'Jeremy Renner': 1, 'Rachel Weisz': 1, 'Edward Norton': 1, 'Scott Glenn': 1, 'Stacy Keach': 1, 'Ian McKellen': 1, 'Martin Freeman': 1, 'Richard Armitage': 1, 'Andy Serkis': 1, 'Cate Blanchett': 1, 'Noomi Rapace': 1, 'Michael Fassbender': 1, 'Idris Elba': 1, 'Guy Pearce': 1, 'Andrew Garfield': 1, 'Emma Stone': 1, 'Rhys Ifans': 1, 'Martin Sheen': 1, 'Kelly Macdonald': 1, 'Julie Walters': 1, 'Billy Connolly': 1, 'Kevin McKidd': 1, 'Sam Claflin': 1, 'Ian McShane': 1, 'Suraj Sharma': 1, 'Irrfan Khan': 1, 'Ayush Tandon': 1, 'Gautam Belur': 1, 'Adil Hussain': 1, 'John Leguizamo': 1, 'Ray Romano': 1, 'Chris Wedge': 1, 'Mark Wahlberg': 1, 'Mila Kunis': 1, 'Seth MacFarlane': 1, 'Joel McHale': 1, 'Giovanni Ribisi': 1, 'Tom Cruise': 1, 'Richard Jenkins': 1, 'David Oyelowo': 1, 'Werner Herzog': 1, 'John C. Reilly': 1, 'Sarah Silverman': 1, 'Jane Lynch': 1, 'Jack McBrayer': 1, 'Jamie Elman': 1, 'Will Smith': 1, 'Tommy Lee Jones': 1, 'Josh Brolin': 1, 'Michael Stuhlbarg': 1, 'Jennifer Lawrence': 1, 'Liam Hemsworth': 1, 'Woody Harrelson': 1, 'Elizabeth Banks': 1, 'Sylvester Stallone': 1, 'Jason Statham': 1, 'Dolph Lundgren': 1, 'Bruce Willis': 1, 'Arnold Schwarzenegger': 1, 'Maggie Grace': 1, 'Famke Janssen': 1, 'Rade Serbedzija': 1, 'Luke Grimes': 1, 'Johnny Depp': 1, 'Michelle Pfeiffer': 1, 'Helena Bonham Carter': 1, 'Jackie Earle Haley': 1, 'Jonny Lee Miller': 1, 'Ben Affleck': 1, 'Bryan Cranston': 1, 'Alan Arkin': 1, 'John Goodman': 1, 'Victor Garber': 1, 'Jason Biggs': 1, 'Alyson Hannigan': 1, 'Chris Klein': 1, 'Thomas Ian Nicholas': 1, 'Chris Pine': 1, 'Alec Baldwin': 1, 'Jude Law': 1, 'Isla Fisher': 1, 'Dwayne Johnson': 1, 'Kristin Davis': 1, 'Vanessa Hudgens': 1, 'Luis GuzmÃ¡n': 1, 'Zac Efron': 1, 'Danny DeVito': 1, 'Taylor Swift': 1, 'Ed Helms': 1, 'Rob Riggle': 1, 'Alexander SkarsgÃ¥rd': 1, 'Rihanna': 1, 'Brooklyn Decker': 1, 'Tadanobu Asano': 1, 'Russell Crowe': 1, 'Amanda Seyfried': 1, 'Lynn Collins': 1, 'Mark Strong': 1, 'Willem Dafoe': 1, 'CiarÃ¡n Hinds': 1, 'Robert Pattinson': 1, 'Taylor Lautner': 1, 'Peter Facinelli': 1, 'Elizabeth Reaser': 1, 'Sam Worthington': 1, 'Edgar RamÃ\\xadrez': 1, 'Adam Sandler': 1, 'Steve Buscemi': 1, 'David Spade': 1, 'Kevin James': 1, 'Selena Gomez': 1, 'Ben Stiller': 1, 'David Schwimmer': 1, 'Frances McDormand': 1, 'Chris Rock': 1, 'Denzel Washington': 1, 'Ryan Reynolds': 1, 'Vera Farmiga': 1, 'Joel Kinnaman': 1, 'Brendan Gleeson': 1, 'Milla Jovovich': 1, 'Sienna Guillory': 1, 'Michelle Rodriguez': 1, 'Aryana Engineer': 1, 'Li Bingbing': 1})\n"
     ]
    }
   ],
   "source": [
    "data = pd.read_csv('movie_bd_v5.csv.xlw')\n",
    "data['cast'] = data['cast'].apply(lambda x:x.split('|'))\n",
    "data3 = data[(data.release_year == 2012)]\n",
    "data4 = data3[data3['revenue'] > data3['revenue'].mean()]\n",
    "\n",
    "import collections\n",
    "c = collections.Counter()\n",
    "for line in data4['cast']:\n",
    "    for actor in line:\n",
    "        c[actor] += 1\n",
    "print(c)\n",
    "\n",
    "\n"
   ]
  },
  {
   "cell_type": "markdown",
   "metadata": {
    "colab_type": "text",
    "id": "mWHyyL7QVp_j"
   },
   "source": [
    "# 16. Какой актер снялся в большем количестве высокобюджетных фильмов?"
   ]
  },
  {
   "cell_type": "code",
   "execution_count": 320,
   "metadata": {
    "colab": {},
    "colab_type": "code",
    "id": "qQtmHKTFVp_k"
   },
   "outputs": [
    {
     "name": "stdout",
     "output_type": "stream",
     "text": [
      "Counter({'Matt Damon': 18, 'Adam Sandler': 17, 'Angelina Jolie': 16, 'Tom Cruise': 15, 'Samuel L. Jackson': 15, 'Eddie Murphy': 15, 'Mark Wahlberg': 14, 'Hugh Jackman': 14, 'Ben Stiller': 14, 'Jamie Foxx': 14, 'Russell Crowe': 14, 'Johnny Depp': 13, 'Jude Law': 13, 'Bruce Willis': 13, 'Will Smith': 13, 'Dwayne Johnson': 12, 'Ian McKellen': 12, 'Brad Pitt': 12, 'Owen Wilson': 12, 'Cameron Diaz': 12, 'Nicolas Cage': 12, 'Robert De Niro': 12, 'Leonardo DiCaprio': 11, 'Daniel Craig': 11, 'Robert Downey Jr.': 11, 'Steve Buscemi': 11, 'Vin Diesel': 10, 'Mark Ruffalo': 10, 'Jack Black': 10, 'Denzel Washington': 10, 'Emma Watson': 10, 'Gary Oldman': 10, 'Tom Hanks': 10, 'Orlando Bloom': 10, 'Ralph Fiennes': 9, 'Cate Blanchett': 9, 'Michael Caine': 9, 'Ewan McGregor': 9, 'Paul Bettany': 9, 'Brendan Gleeson': 9, 'Shia LaBeouf': 9, 'Nicole Kidman': 9, 'Colin Farrell': 9, 'Rachel Weisz': 9, 'Halle Berry': 9, 'Charlize Theron': 8, 'Kevin James': 8, 'Chris Hemsworth': 8, 'Helena Bonham Carter': 8, 'Josh Hutcherson': 8, 'George Clooney': 8, 'James Franco': 8, 'Christian Bale': 8, 'Gerard Butler': 8, 'Sylvester Stallone': 8, 'Rosario Dawson': 8, 'Ben Kingsley': 8, 'Bill Nighy': 8, 'Daniel Radcliffe': 8, 'Rupert Grint': 8, 'Jim Carrey': 8, 'Vince Vaughn': 8, 'Alec Baldwin': 8, 'Steve Carell': 8, 'Harrison Ford': 7, 'Jason Statham': 7, 'Chris Evans': 7, 'Woody Harrelson': 7, 'Josh Brolin': 7, 'Jeff Bridges': 7, 'Anne Hathaway': 7, 'Patrick Stewart': 7, 'Jennifer Connelly': 7, 'Anthony Hopkins': 7, 'Morgan Freeman': 7, 'Billy Crudup': 7, 'Jason Lee': 7, 'Jessica Biel': 7, 'Julia Roberts': 7, 'Ryan Reynolds': 7, 'Liam Neeson': 7, 'Karl Urban': 7, 'Richard Jenkins': 7, 'Chris Rock': 7, 'Kate Winslet': 6, 'Paul Walker': 6, 'Arnold Schwarzenegger': 6, 'Sean Bean': 6, 'Scarlett Johansson': 6, 'Elizabeth Banks': 6, 'Ving Rhames': 6, 'Mark Strong': 6, 'Jeffrey Wright': 6, 'Gwyneth Paltrow': 6, 'Matthew McConaughey': 6, 'Rosamund Pike': 6, 'Logan Lerman': 6, 'Robin Williams': 6, 'Stanley Tucci': 6, 'Mel Gibson': 6, 'Kevin Costner': 6, 'John Goodman': 6, 'Aaron Eckhart': 6, 'Justin Long': 6, 'Will Ferrell': 6, 'Seann William Scott': 6, 'Paul Giamatti': 6, 'Dustin Hoffman': 6, 'Mike Myers': 6, 'Eva Mendes': 6, 'Kate Beckinsale': 6, 'Jon Voight': 6, 'Jackie Chan': 6, 'Tobey Maguire': 6, 'Keanu Reeves': 6, 'Guy Pearce': 6, 'John Leguizamo': 6, 'Tommy Lee Jones': 6, 'Michelle Rodriguez': 5, 'Michael PeÃ±a': 5, 'Paul Rudd': 5, 'Jennifer Lawrence': 5, 'Carla Gugino': 5, 'Ioan Gruffudd': 5, 'Simon Pegg': 5, 'Giovanni Ribisi': 5, 'Frances McDormand': 5, 'Elijah Wood': 5, 'Jake Gyllenhaal': 5, 'Sam Worthington': 5, 'Delroy Lindo': 5, 'Bradley Cooper': 5, 'Donald Sutherland': 5, 'Ben Affleck': 5, 'Andy Serkis': 5, 'John Turturro': 5, 'Jonah Hill': 5, 'Julianne Moore': 5, 'John Malkovich': 5, 'Ian McShane': 5, 'Chris Pine': 5, 'Keira Knightley': 5, 'Jessica Alba': 5, 'Eric Bana': 5, 'Benjamin Bratt': 5, 'Hank Azaria': 5, 'John Travolta': 5, 'David Cross': 5, 'Clive Owen': 5, 'Sam Elliott': 5, 'Don Cheadle': 5, 'Ron Perlman': 5, 'Antonio Banderas': 5, 'Peter Sarsgaard': 5, 'Zach Galifianakis': 5, 'Nick Nolte': 5, 'Brendan Fraser': 5, 'Jennifer Aniston': 5, 'Edward Norton': 5, 'Judi Dench': 5, 'John C. Reilly': 5, 'Sacha Baron Cohen': 5, 'Kirsten Dunst': 5, 'Djimon Hounsou': 5, 'Catherine Zeta-Jones': 5, 'Tom Hardy': 4, 'Kristen Wiig': 4, 'Christoph Waltz': 4, 'Michelle Monaghan': 4, 'Liam Hemsworth': 4, 'Amanda Seyfried': 4, 'Steve Martin': 4, 'Ray Winstone': 4, 'Rose Byrne': 4, 'Tom Hiddleston': 4, 'Michael Fassbender': 4, 'Megan Fox': 4, 'Will Arnett': 4, 'William Fichtner': 4, 'Marton Csokas': 4, 'Emma Stone': 4, 'Bill Paxton': 4, 'Joel Edgerton': 4, 'Bryan Cranston': 4, 'Jay Baruchel': 4, 'Eva Green': 4, 'David Wenham': 4, 'Michael Gambon': 4, 'Mickey Rourke': 4, 'Joseph Gordon-Levitt': 4, 'Bill Murray': 4, 'Carrie-Anne Moss': 4, 'Bruce Greenwood': 4, 'Patrick Wilson': 4, 'Chiwetel Ejiofor': 4, 'Thandie Newton': 4, 'Anna Faris': 4, 'Amy Adams': 4, 'Susan Sarandon': 4, 'PenÃ©lope Cruz': 4, 'Jon Favreau': 4, 'Luis GuzmÃ¡n': 4, 'Jason Bateman': 4, 'Seth Rogen': 4, 'Reese Witherspoon': 4, 'Tyrese Gibson': 4, 'Catherine Keener': 4, 'James Cromwell': 4, 'Julie Andrews': 4, 'Alfred Molina': 4, 'Salma Hayek': 4, 'Kristen Stewart': 4, 'Peter Facinelli': 4, 'Jason Isaacs': 4, 'Ashton Kutcher': 4, 'Jack Nicholson': 4, 'Viggo Mortensen': 4, 'Liv Tyler': 4, 'Ed Harris': 4, 'Heath Ledger': 4, 'Kurt Russell': 4, 'Angela Bassett': 4, 'TÃ©a Leoni': 4, 'Terrence Howard': 4, 'Hayden Christensen': 4, 'Terence Stamp': 4, 'Anthony Mackie': 4, 'Zooey Deschanel': 4, 'Matthew Broderick': 4, 'Ed Helms': 4, 'Hugo Weaving': 4, 'Geoffrey Rush': 4, 'Natalie Portman': 4, 'Denis Leary': 4, 'Brian Cox': 4, 'Willem Dafoe': 4, 'Joaquin Phoenix': 4, 'Famke Janssen': 4, 'Peter Stormare': 4, 'Kerry Washington': 4, 'Billy Connolly': 4, 'Drew Barrymore': 4, 'RenÃ©e Zellweger': 4, 'Christopher Walken': 4, 'Bryce Dallas Howard': 3, 'Theo James': 3, 'Miles Teller': 3, 'Jason Clarke': 3, 'Jai Courtney': 3, 'Jessica Chastain': 3, 'Sandra Bullock': 3, 'Michael Keaton': 3, 'Bill Hader': 3, 'Monica Bellucci': 3, 'Mila Kunis': 3, 'Channing Tatum': 3, 'Josh Gad': 3, 'Michael Douglas': 3, 'Bobby Cannavale': 3, 'Hugh Laurie': 3, 'Alexandra Daddario': 3, 'Jeremy Renner': 3, 'Amy Ryan': 3, 'Henry Cavill': 3, 'Armie Hammer': 3, 'Kate Mara': 3, 'Jamie Bell': 3, 'Toby Kebbell': 3, 'Garrett Hedlund': 3, 'Andy Samberg': 3, 'Rachel McAdams': 3, 'Marion Cotillard': 3, 'Charlie Hunnam': 3, 'Casey Affleck': 3, 'Zoe Saldana': 3, 'Robert Redford': 3, 'Martin Freeman': 3, 'Richard Armitage': 3, 'Neil Patrick Harris': 3, 'James McAvoy': 3, 'Li Bingbing': 3, 'Colm Feore': 3, 'Sienna Miller': 3, 'Ken Watanabe': 3, 'Elle Fanning': 3, 'Sharlto Copley': 3, 'Luke Evans': 3, 'Dominic Cooper': 3, 'John Hurt': 3, 'Rufus Sewell': 3, 'Abbie Cornish': 3, 'Jesse Eisenberg': 3, 'Leslie Mann': 3, 'Andy GarcÃ\\xada': 3, 'Emily Browning': 3, 'Miranda Otto': 3, 'William Hurt': 3, 'Stephen Lang': 3, 'Christopher Plummer': 3, 'Malin Ã…kerman': 3, 'Amanda Peet': 3, 'Stellan SkarsgÃ¥rd': 3, 'Dennis Quaid': 3, 'Dakota Fanning': 3, 'Kristen Bell': 3, 'Kiefer Sutherland': 3, 'Robin Wright': 3, 'Josh Duhamel': 3, 'Meryl Streep': 3, 'Olivia Wilde': 3, 'Freddie Highmore': 3, 'Jordana Brewster': 3, 'Radha Mitchell': 3, 'Liev Schreiber': 3, 'Hugh Grant': 3, 'Sarah Jessica Parker': 3, 'Mary Steenburgen': 3, 'Russell Brand': 3, 'Emily Mortimer': 3, 'Skandar Keynes': 3, 'Georgie Henley': 3, 'Jason Flemyng': 3, 'Mary Elizabeth Winstead': 3, 'Brandon T. Jackson': 3, 'Mary-Louise Parker': 3, 'Maria Bello': 3, 'Robert Pattinson': 3, 'Taylor Lautner': 3, 'Greg Kinnear': 3, 'Kristin Davis': 3, 'Chris Noth': 3, 'James Marsden': 3, 'Dan Aykroyd': 3, 'Milla Jovovich': 3, 'Cuba Gooding Jr.': 3, 'Michael Clarke Duncan': 3, 'James Gandolfini': 3, 'Laurence Fishburne': 3, 'Billy Bob Thornton': 3, 'Teri Polo': 3, 'Lucy Liu': 3, 'Jada Pinkett Smith': 3, 'David Schwimmer': 3, 'Jeffrey Tambor': 3, 'Thomas Kretschmann': 3, 'Kenneth Branagh': 3, 'Cliff Curtis': 3, 'Michael Chiklis': 3, 'Jaden Smith': 3, 'Sienna Guillory': 3, 'Al Pacino': 3, 'Spencer Breslin': 3, 'Paula Patton': 3, 'Tim Robbins': 3, 'Justin Bartha': 3, 'Ken Jeong': 3, 'Jane Lynch': 3, 'Isla Fisher': 3, 'CiarÃ¡n Hinds': 3, 'Lily Collins': 3, 'Kevin Bacon': 3, 'Ray Romano': 3, 'Chris Cooper': 3, 'Emma Thompson': 3, 'William Shatner': 3, 'Cole Hauser': 3, 'Randy Quaid': 3, 'Harvey Keitel': 3, 'Scott Glenn': 3, 'David Oyelowo': 3, 'Michelle Pfeiffer': 3, 'David Spade': 3, 'Marisa Tomei': 3, 'Josh Lucas': 3, 'David Thewlis': 3, 'Connie Nielsen': 3, 'Bruce McGill': 3, 'Shirley MacLaine': 3, 'Hiroyuki Sanada': 3, 'Sean Penn': 3, 'Richard Roxburgh': 3, 'Val Kilmer': 3, 'Emmy Rossum': 3, 'Miranda Richardson': 3, 'Chris Pratt': 2, 'Irrfan Khan': 2, 'Nicholas Hoult': 2, 'Shailene Woodley': 2, 'Domhnall Gleeson': 2, 'J.K. Simmons': 2, 'Jeff Daniels': 2, 'Allison Janney': 2, 'Steve Coogan': 2, 'Amy Poehler': 2, 'LÃ©a Seydoux': 2, 'Evangeline Lilly': 2, 'Corey Stoll': 2, 'Colin Firth': 2, 'Giancarlo Esposito': 2, 'Alicia Vikander': 2, 'Elizabeth Debicki': 2, 'Rihanna': 2, 'Jennifer Lopez': 2, 'Edgar RamÃ\\xadrez': 2, 'Teresa Palmer': 2, 'Viola Davis': 2, 'Benjamin Walker': 2, 'Ben Whishaw': 2, 'Rooney Mara': 2, 'Selena Gomez': 2, 'Mia Wasikowska': 2, 'Sebastian Stan': 2, 'Ken Stott': 2, 'Graham McTavish': 2, 'Jamie Chung': 2, 'Rami Malek': 2, 'Ray Stevenson': 2, 'Nicola Peltz': 2, 'Keri Russell': 2, 'ChloÃ« Grace Moretz': 2, 'Andrew Garfield': 2, 'Emily Blunt': 2, 'Aaron Paul': 2, 'Ben Barnes': 2, 'Kit Harington': 2, 'Lena Headey': 2, 'Joel Kinnaman': 2, 'Jackie Earle Haley': 2, 'Adewale Akinnuoye-Agbaje': 2, 'RamÃ³n RodrÃ\\xadguez': 2, 'Yvonne Strahovski': 2, 'Kellan Lutz': 2, 'Sigourney Weaver': 2, 'MÃ©lanie Laurent': 2, 'Julie Walters': 2, 'Zachary Quinto': 2, 'Anton Yelchin': 2, 'Eddie Marsan': 2, 'Jeffrey Dean Morgan': 2, 'John Cusack': 2, 'Oliver Platt': 2, 'Keith David': 2, 'Marlon Wayans': 2, 'James Caan': 2, 'Saoirse Ronan': 2, 'Sam Rockwell': 2, 'Tracy Morgan': 2, 'Zachary Levi': 2, 'Mary Kay Place': 2, 'Michael Cera': 2, 'Oscar Isaac': 2, 'Danny Huston': 2, 'Lynn Collins': 2, 'Jason Segel': 2, 'Dolph Lundgren': 2, 'Michelle Williams': 2, 'Mandy Moore': 2, 'Tim Allen': 2, 'Ned Beatty': 2, 'Joan Cusack': 2, 'Timothy Dalton': 2, 'Gemma Arterton': 2, 'Anna Kendrick': 2, 'Barbra Streisand': 2, 'Helen Mirren': 2, 'Tina Fey': 2, 'Ashley Greene': 2, 'Jordi MollÃ\\xa0': 2, 'Javier Bardem': 2, 'Katherine Heigl': 2, 'Tom Selleck': 2, 'Cynthia Nixon': 2, 'Kim Cattrall': 2, 'Essie Davis': 2, 'Eric Dane': 2, 'Cam Gigandet': 2, 'Julianne Hough': 2, 'Stephanie Szostak': 2, 'Bette Midler': 2, 'Carey Mulligan': 2, 'Justin Timberlake': 2, 'John Cleese': 2, 'Billy Crystal': 2, \"Frances O'Connor\": 2, 'John Lithgow': 2, 'Josh Hartnett': 2, 'John Hannah': 2, 'Arnold Vosloo': 2, 'Michael J. Fox': 2, 'James Garner': 2, 'Noah Taylor': 2, 'Tim Roth': 2, 'Kris Kristofferson': 2, 'Tom Sizemore': 2, 'Chris Tucker': 2, 'Zhang Ziyi': 2, 'Ernie Reyes, Jr.': 2, 'Elizabeth Perkins': 2, 'Sam Shepard': 2, 'Dylan Baker': 2, 'Gene Hackman': 2, 'Dominic West': 2, 'Edward Burns': 2, 'Martin Landau': 2, 'David Ogden Stiers': 2, 'Courteney Cox': 2, 'David Hyde Pierce': 2, 'Til Schweiger': 2, 'David Andrews': 2, 'William H. Macy': 2, 'Jeff Garlin': 2, 'Olga Kurylenko': 2, 'Jet Li': 2, 'Selma Blair': 2, 'Michael Rooker': 2, 'William Moseley': 2, 'Anna Popplewell': 2, 'Kathy Bates': 2, 'Michael Ealy': 2, 'Malcolm McDowell': 2, 'Alan Arkin': 2, 'Ali Suliman': 2, 'Adam Scott': 2, 'Kate Hudson': 2, 'Ewen Bremner': 2, 'Lambert Wilson': 2, 'Charlotte Rampling': 2, 'Robert Duvall': 2, 'Christina Ricci': 2, 'Matthew Fox': 2, 'Gabriel Macht': 2, 'Paz Vega': 2, 'Kevin Kline': 2, 'Gabrielle Union': 2, 'Goran Visnjic': 2, 'Bailee Madison': 2, 'Noomi Rapace': 2, 'Larry the Cable Guy': 2, 'Eddie Izzard': 2, 'Vanessa Hudgens': 2, 'Emily Watson': 2, 'Asa Butterfield': 2, 'Dominic Purcell': 2, 'Maggie Q': 2, 'Isabel Lucas': 2, 'Katie Holmes': 2, 'Amy Sedaris': 2, 'Jason Momoa': 2, 'Lea Michele': 2, 'Johnny A. Sanchez': 2, 'Seth Green': 2, 'Queen Latifah': 2, 'Richard Harris': 2, 'Franka Potente': 2, 'Ian McDiarmid': 2, 'Max von Sydow': 2, 'Abigail Breslin': 2, 'Elias Koteas': 2, 'Liam Aiken': 2, 'Paul Newman': 2, 'BeyoncÃ© Knowles': 2, 'Mark Addy': 2, 'Adam Beach': 2, 'Izabella Scorupco': 2, 'Naomie Harris': 2, 'Idris Elba': 2, 'Martin Sheen': 2, 'Kevin McKidd': 2, 'Jim Broadbent': 2, 'Jim Sturgess': 2, 'Jonny Lee Miller': 2, 'Timothy Spall': 2, 'Taylor Kitsch': 2, 'Tadanobu Asano': 2, 'Nathan Lane': 2, 'Jack Davenport': 2, 'Claire Danes': 2, 'Jennifer Garner': 2, 'Martin Lawrence': 2, 'TchÃ©ky Karyo': 2, 'Bernie Mac': 2, 'Robert Patrick': 2, 'Steve Zahn': 2, 'Timothy Olyphant': 2, 'Diane Lane': 2, 'Jodie Foster': 2, 'Alice Braga': 2, 'Diego Luna': 2, 'James Badge Dale': 2, 'Patton Oswalt': 2, 'Cloris Leachman': 2, 'Max Martini': 2, 'Maggie Gyllenhaal': 2, 'Sung Kang': 2, 'Sophie Okonedo': 2, 'Zach Braff': 2, 'Jim Belushi': 2, 'AnnaSophia Robb': 2, 'Julian McMahon': 2, 'Lauren Graham': 2, 'Gong Li': 2, 'Amber Valletta': 2, 'Jeremy Irons': 2, 'Adrien Brody': 2, 'Lucas Black': 2, 'Donal Logue': 2, 'Paddy Considine': 2, 'Bonnie Hunt': 2, 'Yvan Attal': 2, 'Mads Mikkelsen': 2, 'Jean Reno': 2, 'Philip Seymour Hoffman': 2, 'Jonathan Rhys Meyers': 2, 'David Strathairn': 2, 'Sharon Stone': 2, 'Jacinda Barrett': 2, 'Gary Sinise': 2, 'Danny Glover': 2, 'Julia Stiles': 2, 'Diane Kruger': 2, 'Chi McBride': 2, 'Jane Krakowski': 2, 'Glenn Close': 2, 'Patrick Warburton': 2, 'John Michael Higgins': 2, 'Helen Hunt': 2, \"Vincent D'Onofrio\": 1, 'Nick Robinson': 1, 'Hugh Keays-Byrne': 1, 'Josh Helman': 1, 'Ansel Elgort': 1, 'Mark Hamill': 1, 'Carrie Fisher': 1, 'Adam Driver': 1, 'Daisy Ridley': 1, 'Will Poulter': 1, 'Paul Anderson': 1, 'Emilia Clarke': 1, 'Jon Hamm': 1, 'Phyllis Smith': 1, 'Richard Kind': 1, 'Lewis Black': 1, 'Eddie Redmayne': 1, 'Douglas Booth': 1, 'Peter Dinklage': 1, 'Lily James': 1, 'Richard Madden': 1, 'Holliday Grainger': 1, 'Britt Robertson': 1, 'Raffey Cassidy': 1, 'Thomas Robinson': 1, 'Archie Panjabi': 1, 'Rebecca Ferguson': 1, 'Seth MacFarlane': 1, 'Jessica Barth': 1, 'Taron Egerton': 1, \"Dylan O'Brien\": 1, 'Kaya Scodelario': 1, 'Thomas Brodie-Sangster': 1, 'Aidan Gillen': 1, 'Dylan Minnette': 1, 'Odeya Rush': 1, 'Jillian Bell': 1, 'Raymond Ochoa': 1, 'Jack Bright': 1, 'Maleah Nipay-Padilla': 1, 'Rose Leslie': 1, 'Ã“lafur Darri Ã“lafsson': 1, 'Luca Calvani': 1, 'Jim Parsons': 1, 'Matt Jones': 1, 'John Hawkes': 1, 'Luke Bracey': 1, 'Olivia Munn': 1, 'Leehom Wang': 1, 'Tang Wei': 1, 'Holt McCallany': 1, 'Michael B. Jordan': 1, 'Melissa McCarthy': 1, 'Miranda Hart': 1, 'Cillian Murphy': 1, 'Levi Miller': 1, 'Noah Schnapp': 1, 'Bill Melendez': 1, 'Venus Schultheis': 1, 'Hadley Belle Miller': 1, 'Madisyn Shipman': 1, 'Jim Beaver': 1, 'Tom Kenny': 1, 'Bill Fagerbakke': 1, 'Rodger Bumpass': 1, 'Clancy Brown': 1, 'Carolyn Lawrence': 1, 'Dave Bautista': 1, 'Scott Adsit': 1, 'Ryan Potter': 1, 'Daniel Henney': 1, 'T.J. Miller': 1, 'Carrie Coon': 1, 'Tyler Perry': 1, 'Jon Bernthal': 1, 'Rebel Wilson': 1, 'Alan Ritchson': 1, 'Noel Fisher': 1, 'Jack Reynor': 1, 'Judy Greer': 1, 'David Harbour': 1, 'Haley Bennett': 1, 'Dane DeHaan': 1, 'Jonas Armstrong': 1, 'Kyle Gallner': 1, 'Cole Konis': 1, 'Ben Reed': 1, 'Ben Mendelsohn': 1, 'Aaron Taylor-Johnson': 1, 'Elizabeth Olsen': 1, 'Juliette Binoche': 1, 'Juno Temple': 1, 'Isobelle Molloy': 1, 'Craig Berry': 1, 'Alison Brie': 1, 'David Burrows': 1, 'Sarah Gadon': 1, 'Art Parkinson': 1, 'Charles Dance': 1, 'Tom McGrath': 1, 'Chris Miller': 1, 'Christopher Knights': 1, 'Conrad Vernon': 1, 'Sullivan Stapleton': 1, 'Callan Mulvey': 1, 'Peter Capaldi': 1, 'Imelda Staunton': 1, 'Aksel Hennie': 1, 'Nonso Anozie': 1, 'Gemma Chan': 1, 'Rebecca Hall': 1, 'Ty Burrell': 1, 'Max Charles': 1, 'Ariel Winter': 1, 'Ellie Kemper': 1, \"Jack O'Connell\": 1, 'Takamasa Ishihara': 1, 'Finn Wittrock': 1, 'Jessica Lucas': 1, 'QuvenzhanÃ© Wallis': 1, 'Imogen Poots': 1, 'Isaac Hempstead Wright': 1, 'Dee Bradley Baker': 1, 'Steve Blum': 1, 'Jessica Brown Findlay': 1, 'Liam McIntyre': 1, 'Gaia Weiss': 1, 'Scott Adkins': 1, 'Roxanne McKee': 1, 'Eli Roth': 1, 'Tom Felton': 1, 'Ed Asner': 1, 'Jordan Nagai': 1, 'Bob Peterson': 1, 'Leonard Nimoy': 1, 'Moon Bloodgood': 1, 'Ayelet Zurer': 1, 'Pierfrancesco Favino': 1, 'Anika Noni Rose': 1, 'Bruno Campos': 1, 'Michael-Leon Wooley': 1, 'Jennifer Cody': 1, 'Mr. T': 1, 'Teri Hatcher': 1, 'Jennifer Saunders': 1, 'Dawn French': 1, 'Steve Valentine': 1, 'Daryl Sabara': 1, 'Sage Ryan': 1, 'Victor Gojcaj': 1, 'Matthew Gray Gubler': 1, 'Rainn Wilson': 1, 'Lake Bell': 1, 'Anna Friel': 1, 'Danny McBride': 1, 'Jorma Taccone': 1, 'Matt Lauer': 1, 'Tony Kgoroge': 1, 'Patrick Mofokeng': 1, 'Matt Stern': 1, 'Max Minghella': 1, 'Ashraf Barhom': 1, 'Michael Lonsdale': 1, 'John Ortiz': 1, 'Tom Wilkinson': 1, 'Lisa Roberts Gillan': 1, 'Nelsan Ellis': 1, 'Michael Bunin': 1, 'Natalia Klimas': 1, 'Ellen Page': 1, 'Crispin Glover': 1, 'Eric Roberts': 1, 'Randy Couture': 1, 'Craig Ferguson': 1, 'America Ferrera': 1, 'Bruce Boxleitner': 1, 'Yaya DaCosta': 1, 'Donna Murphy': 1, 'M.C. Gainey': 1, 'Daniel Olbrychski': 1, 'Gary Sweet': 1, 'Arthur Angel': 1, 'Steven Berkoff': 1, 'Steve Toussaint': 1, 'Kieran Culkin': 1, 'Jake Abel': 1, 'Ethan Suplee': 1, 'Kevin Corrigan': 1, 'Maya Rudolph': 1, 'Jennifer Beals': 1, 'Taraji P. Henson': 1, 'Jimmi Simpson': 1, 'Noah Ringer': 1, 'Jackson Rathbone': 1, 'Dev Patel': 1, 'Shaun Toub': 1, \"Chris O'Dowd\": 1, 'Juliette Lewis': 1, \"Catherine O'Hara\": 1, 'Alex Borstein': 1, 'Emily Barclay': 1, 'Deborra-Lee Furness': 1, 'Cher': 1, 'Christina Aguilera': 1, 'Jemaine Clement': 1, 'Christina Applegate': 1, 'Pascale Hutton': 1, 'Kathryn Hahn': 1, 'Frank Langella': 1, 'Tom Cavanagh': 1, 'Christine Taylor': 1, 'Shawn Roberts': 1, \"Denis O'Hare\": 1, 'Wentworth Miller': 1, 'Ali Larter': 1, 'Kim Coates': 1, 'Kacey Barnfield': 1, 'Robbie Coltrane': 1, 'Mary Gibbs': 1, 'James Coburn': 1, 'Haley Joel Osment': 1, 'Sam Robards': 1, 'Jake Thomas': 1, 'Vincent Cassel': 1, 'Oded Fehr': 1, 'Corey Burton': 1, 'Claudia Christian': 1, 'John Mahoney': 1, 'Iain Glen': 1, 'Joseph Fiennes': 1, 'Bob Hoskins': 1, 'Shannyn Sossamon': 1, 'Laura Fraser': 1, 'Roselyn SÃ¡nchez': 1, 'Jeff Goldblum': 1, 'Alexander Pollock': 1, 'Miriam Margolyes': 1, 'Catherine McCormack': 1, 'Stephen Dillane': 1, 'Larry Bryggman': 1, 'Ming-Na Wen': 1, 'Kristen Wilson': 1, 'Raven-SymonÃ©': 1, 'Kyla Pratt': 1, 'Steve Burton': 1, 'Monica Potter': 1, 'Michael Wincott': 1, 'Mika Boorem': 1, 'Jason Bonham': 1, 'Kelsey Grammer': 1, 'Avery Brooks': 1, 'David Duchovny': 1, 'Orlando Jones': 1, 'Ted Levine': 1, 'Mario Van Peebles': 1, 'Ron Silver': 1, 'Marlon Brando': 1, 'Paul Soles': 1, 'Laurie Holden': 1, 'Hal Holbrook': 1, 'Christian Slater': 1, 'Kevin Pollak': 1, 'Brandy Norwood': 1, 'Troy Garity': 1, 'William Converse-Roberts': 1, 'Kip Pardue': 1, 'Robert Sean Leonard': 1, 'Estella Warren': 1, 'Ray Liotta': 1, \"Matt O'Leary\": 1, 'Bridget Fonda': 1, 'Chris Kattan': 1, 'Sam Neill': 1, 'Trevor Morgan': 1, 'Alessandro Nivola': 1, 'Ben Burtt': 1, 'Elissa Knight': 1, 'Fred Willard': 1, 'John Ratzenberger': 1, 'Leslie Bibb': 1, 'Karen Allen': 1, 'Mathieu Amalric': 1, 'Giancarlo Giannini': 1, 'Tilda Swinton': 1, 'Julia Ormond': 1, 'Luke Ford': 1, 'Tim Blake Nelson': 1, 'Cedric the Entertainer': 1, 'Doug Jones': 1, 'Rachel Bilson': 1, 'Carice van Houten': 1, 'Steven Strait': 1, 'Camilla Belle': 1, 'Nathanael Baring': 1, 'Mo Zinal': 1, 'Jae Head': 1, 'Sarah Jane Morris': 1, 'Miley Cyrus': 1, 'Susie Essman': 1, 'Mark Walton': 1, 'Bryan Brown': 1, 'Rhys Darby': 1, 'Sasha Alexander': 1, 'Fionnula Flanagan': 1, 'Kathleen Turner': 1, 'Simon McBurney': 1, 'Eliza Bennett': 1, 'Alexis Dziena': 1, 'Lucy Lawless': 1, 'Michelle Yeoh': 1, 'MÃ©lanie Thierry': 1, 'Jeffrey Donovan': 1, 'Geoff Pierson': 1, 'Sarah Bolger': 1, 'Andrew McCarthy': 1, 'Dwight Yoakam': 1, 'Romany Malco': 1, 'Meagan Good': 1, 'Emile Hirsch': 1, 'Scott Porter': 1, 'Carol Burnett': 1, 'Michael Angarano': 1, 'Collin Chou': 1, '50 Cent': 1, 'Donnie Wahlberg': 1, 'Emmanuelle Chriqui': 1, 'Nick Swardson': 1, 'Lainie Kazan': 1, 'Harry Treadaway': 1, 'Betty Buckley': 1, 'Tracey Ullman': 1, 'Scott Caan': 1, 'Hayley Atwell': 1, 'Alan Rickman': 1, 'Maggie Smith': 1, 'Kevin McNally': 1, 'Karin Konoval': 1, 'Freida Pinto': 1, 'Anil Kapoor': 1, 'Griffin Gluck': 1, 'Dakota Goyo': 1, 'Kevin Durand': 1, 'Jared Harris': 1, 'Kelly Reilly': 1, 'Blake Lively': 1, 'Nick Frost': 1, 'Jena Malone': 1, 'Will.i.am': 1, 'Walton Goggins': 1, 'Benedict Cumberbatch': 1, 'Jeremy Irvine': 1, 'Violante Placido': 1, 'Fergus Riordan': 1, 'Johnny Whitworth': 1, 'Matthew Macfadyen': 1, 'Will Rothhaar': 1, 'Cory Hardrict': 1, 'Jim Parrack': 1, 'Eugenio Derbez': 1, 'Tim Meadows': 1, 'Jay Chou': 1, 'Edward Furlong': 1, 'Rose McGowan': 1, 'Rachel Nichols': 1, 'Alan Alda': 1, 'Pink': 1, 'E.G. Daily': 1, 'Dan Fogler': 1, 'Breckin Meyer': 1, 'Elisabeth Harnois': 1, 'Jenny Slate': 1, 'Andy Buckley': 1, 'Jayma Mays': 1, 'Alan Cumming': 1, 'Kaley Cuoco': 1, 'Winona Ryder': 1, 'Cliff Robertson': 1, 'Rip Torn': 1, 'Lara Flynn Boyle': 1, 'Johnny Knoxville': 1, 'Samantha Morton': 1, 'Lois Smith': 1, 'Chris Sanders': 1, 'Daveigh Chase': 1, 'Tia Carrere': 1, 'Kevin McDonald': 1, 'Asia Argento': 1, 'Michael Roof': 1, 'Roscoe Lee Browne': 1, 'Martin Short': 1, 'Pierce Brosnan': 1, 'Rick Yune': 1, 'Toby Stephens': 1, 'Natasha Richardson': 1, 'Tyler Posey': 1, 'Daniel Day-Lewis': 1, 'Geena Davis': 1, 'Jonathan Lipnicki': 1, 'Anna Hoelck': 1, 'Alicia Witt': 1, 'Dana Ivey': 1, 'Robert Klein': 1, 'Rory Culkin': 1, 'Cherry Jones': 1, 'Francesca Neri': 1, 'Jonathan Frakes': 1, 'LeVar Burton': 1, 'Brent Spiner': 1, 'Gates McFadden': 1, 'Tyler Hoechlin': 1, 'Jennifer Jason Leigh': 1, 'Michael York': 1, 'Mindy Sterling': 1, 'Elizabeth Mitchell': 1, 'David Krumholtz': 1, 'Eric Lloyd': 1, 'Freddie Prinze Jr.': 1, 'Sarah Michelle Gellar': 1, 'Matthew Lillard': 1, 'Linda Cardellini': 1, 'Rowan Atkinson': 1, 'Daniel Studi': 1, 'Chopper Bernet': 1, 'Jeff LeBeau': 1, 'Courtney B. Vance': 1, 'Tom Berenger': 1, 'Charles S. Dutton': 1, 'Kelly Hu': 1, 'Steven Brand': 1, 'Bernard Hill': 1, 'Keith Dallas': 1, 'Madeleine Stowe': 1, 'Chris Klein': 1, 'Samantha Mumba': 1, 'Phyllida Law': 1, 'Laura Kirk': 1, 'Noah Emmerich': 1, 'Joss Ackland': 1, 'John Shrapnel': 1, 'Alexander Siddig': 1, 'Rachael Harris': 1, 'Zaid Farid': 1, 'Marcel IureÈ™': 1, 'Joe Pantoliano': 1, 'Jay Mohr': 1, 'Joe Morton': 1, 'Ron Rifkin': 1, 'Susanna Thompson': 1, 'Stephen Rea': 1, 'India Eisley': 1, 'Stacy Keach': 1, 'Rhys Ifans': 1, 'Kelly Macdonald': 1, 'Sam Claflin': 1, 'Suraj Sharma': 1, 'Ayush Tandon': 1, 'Gautam Belur': 1, 'Adil Hussain': 1, 'Chris Wedge': 1, 'Werner Herzog': 1, 'Sarah Silverman': 1, 'Jack McBrayer': 1, 'Jamie Elman': 1, 'Michael Stuhlbarg': 1, 'James Kidnie': 1, 'Heidi Hawkins': 1, 'Zac Efron': 1, 'Danny DeVito': 1, 'Taylor Swift': 1, 'Rob Riggle': 1, 'Alexander SkarsgÃ¥rd': 1, 'Brooklyn Decker': 1, 'Martin Klebba': 1, 'Elizabeth Reaser': 1, 'Sayed Badreya': 1, 'Aasif Mandvi': 1, 'Diego Boneta': 1, 'Jeremy Piven': 1, 'Brian Blessed': 1, 'Eva Amurri Martino': 1, 'Leighton Meester': 1, 'Vera Farmiga': 1, 'Adrianne Palicki': 1, 'Kodi Smit-McPhee': 1, 'Tucker Albrizzi': 1, 'Jodelle Ferland': 1, 'Daniela Ruah': 1, 'Aryana Engineer': 1, 'Mary Alice': 1, 'Helmut Bakaitis': 1, 'Albert Brooks': 1, 'Ellen DeGeneres': 1, 'Alexander Gould': 1, 'Brad Garrett': 1, 'Philip Baker Hall': 1, 'Catherine Bell': 1, 'Lisa Ann Walter': 1, 'Nick Stahl': 1, 'Kristanna Loken': 1, 'Albert Finney': 1, 'Jessica Lange': 1, 'Jason Biggs': 1, 'Alyson Hannigan': 1, 'Eddie Kaye Thomas': 1, 'Thomas Ian Nicholas': 1, 'Sean Connery': 1, 'Peta Wilson': 1, 'Shane West': 1, 'Stuart Townsend': 1, 'Fausto Callegarini': 1, 'Jeremy Sumpter': 1, 'Rachel Hurd-Wood': 1, 'Richard Briers': 1, 'Olivia Williams': 1, 'William Atherton': 1, 'Chad Lindberg': 1, \"James D'Arcy\": 1, 'Billy Boyd': 1, 'Joseph Morgan': 1, 'January Jones': 1, 'Hilary Swank': 1, 'LL Cool J': 1, 'Josh Charles': 1, 'Eamonn Walker': 1, 'Johnny Messner': 1, 'Uma Thurman': 1, 'Diane Keaton': 1, 'Nathaniel Parker': 1, 'Marsha Thomason': 1, 'Jennifer Tilly': 1, 'Eileen Atkins': 1, 'Jenna Elfman': 1, 'Heather Locklear': 1, 'Ludacris': 1, 'Regina King': 1, 'Kevin Nealon': 1, 'David McCullough': 1, 'Thomas Jane': 1, 'Damian Lewis': 1, 'Edward Herrmann': 1, 'Benicio del Toro': 1, 'Leslie Stefanson': 1, 'John Finn': 1, 'Kevin Conway': 1, 'C. Thomas Howell': 1, 'Wen Yann Shih': 1, 'Seymour Cassel': 1, 'Idina Menzel': 1, 'Jonathan Groff': 1, 'Santino Fontana': 1, 'Orto Ignatiussen': 1, 'Phaldut Sharma': 1, 'Christopher Eccleston': 1, 'Margot Robbie': 1, 'Kyle Chandler': 1, 'Rob Reiner': 1, 'Charlie Day': 1, 'Burn Gorman': 1, 'Andrea Riseborough': 1, 'Nikolaj Coster-Waldau': 1, 'Michael Shannon': 1, 'Miranda Cosgrove': 1, 'Sebastian Koch': 1, 'Yuliya Snigir': 1, 'Joel Murray': 1, 'Mireille Enos': 1, 'Abigail Hargrove': 1, 'Sterling Jerins': 1, 'Hailee Steinfeld': 1, 'Fred Ward': 1, 'Douglas Smith': 1, 'Leven Rambin': 1, 'Kou Shibasaki': 1, 'Min Tanaka': 1, 'Jamie Campbell Bower': 1, 'Kevin Zegers': 1, 'Jemima West': 1, 'Robert Sheehan': 1, 'Jason Sudeikis': 1, 'Aziz Ansari': 1, 'Chris Mulkey': 1, 'Yul Vazquez': 1, 'Joey King': 1, 'Eleanor Tomlinson': 1, 'Sarah Shahi': 1, 'ZoÃ« Kravitz': 1, 'Glenn Morshower': 1, 'Ryan Gosling': 1, 'Will Forte': 1, 'Barry Pepper': 1, 'Charlie Rowe': 1, 'Angourie Rice': 1, 'Katy Perry': 1, 'Tao Okamoto': 1, 'Rila Fukushima': 1, 'Svetlana Khodchenkova': 1, 'George Takei': 1, 'Colm Meaney': 1, 'Hugh Dancy': 1, 'Tiya Sircar': 1, 'Julia Winter': 1, 'Max Baker': 1, 'Caroline Chikezie': 1, 'Faith Ford': 1, 'Chris Potter': 1, 'Brittany Snow': 1, 'Justin Chatwin': 1, 'Youki Kudoh': 1, 'Tsai Chin': 1, 'Suzuka Ohgo': 1, 'Garry Marshall': 1, 'Don Knotts': 1, 'Julie Ann Emery': 1, 'Naomi Watts': 1, 'Colin Hanks': 1, 'Mel Brooks': 1, 'Paula Abdul': 1, 'Ice Cube': 1, 'Scott Speedman': 1, 'Xzibit': 1, 'Adam Brody': 1, 'AdriÃ¡n Alonso Barona': 1, 'Julio Oscar Mechoso': 1, 'Nick Chinlund': 1, 'Scott MacDonald': 1, 'Dina Spybey-Waters': 1, 'Ben Shenkman': 1, 'Craig Bierko': 1, 'Jason Schwartzman': 1, 'Ben Daniels': 1, 'Deobia Oparei': 1, 'Eugene Levy': 1, 'Tom Welling': 1, 'Jonathan Bennett': 1, 'Jesper Christensen': 1, 'Mackenzie Crook': 1, 'Roger Ashton-Griffiths': 1, 'Mathieu Kassovitz': 1, 'Hanns Zischler': 1, 'Angie Harmon': 1, 'Kate Beahan': 1, 'Michael Irby': 1, 'Burt Reynolds': 1, 'Michael Irvin': 1, 'Nelly': 1, 'Heike Makatsch': 1, 'Armin Rohde': 1, 'Wilfried Hochholdinger': 1, 'Lennie James': 1, 'Robert Mammone': 1, 'James Carpinello': 1, 'Mark Consuelos': 1, 'Cheech Marin': 1, 'Audrey Tautou': 1, 'Eli Wallach': 1, 'Jake Cherry': 1, 'Dick Van Dyke': 1, 'David Hasselhoff': 1, 'Henry Winkler': 1, 'Garry Shandling': 1, 'Wanda Sykes': 1, 'Kagiso Kuypers': 1, 'Lombardo Boyar': 1, 'Carlos Alazraqui': 1, 'Jeffrey Garcia': 1, 'Janeane Garofalo': 1, 'Jim Caviezel': 1, 'Adam Goldberg': 1, 'Ed Speleers': 1, 'Robert Carlyle': 1, 'Ryan Newman': 1, 'Mitchel Musso': 1, 'Sam Lerner': 1, 'Spencer Locke': 1, 'Tammy Blanchard': 1, 'Luis Tosar': 1, 'Ryan Phillippe': 1, 'Jesse Bradford': 1, 'John Benjamin Hickey': 1, 'John Slattery': 1, 'Patricia Clarkson': 1, 'David Morrissey': 1, 'Stan Collymore': 1, 'Gary Cole': 1, 'Austin Crim': 1, 'Jake Johnson': 1, 'Brian Howe': 1, 'James Karen': 1, 'Richard Dreyfuss': 1, 'Shawn Wayans': 1, 'John Witherspoon': 1, 'Jay Hernandez': 1, 'Debra Messing': 1, 'Jennifer Hudson': 1, 'Sela Ward': 1, 'Melissa Sagemiller': 1, 'Omari Hardwick': 1, 'Brian Tee': 1, 'Nathalie Kelley': 1, 'Shad Moss': 1, 'Mos Def': 1, 'David Morse': 1, 'Jenna Stern': 1, 'David Zayas': 1, 'Eva Longoria': 1, 'Martin Donovan': 1, 'Ritchie Coster': 1, 'Scott Hazell': 1, 'Mac McDonald': 1, 'Philip Winchester': 1, 'Todd Boyce': 1, 'Bob Balaban': 1, 'Sarita Choudhury': 1, 'Cindy Cheung': 1, 'Craig T. Nelson': 1, 'Holly Hunter': 1, 'Dominique Louis': 1, 'Bridget Moynahan': 1, 'Alan Tudyk': 1, 'Rob Schneider': 1, 'Sean Astin': 1, 'Lusia Strus': 1, 'Shuler Hensley': 1, 'Rupert Evans': 1, 'Michael Jeter': 1, 'Eddie Deezen': 1, 'Chris Coppola': 1, 'Nona Gaye': 1, 'Dash Mihok': 1, 'Jay O. Sanders': 1, 'Peter Berg': 1, 'Wesley Snipes': 1, 'Bai Ling': 1, 'Sanaa Lathan': 1, 'Raoul Bova': 1, 'Colin Salmon': 1, 'Tommy Flanagan': 1, 'Jared Leto': 1, 'Rosemary Harris': 1, 'Marc Anthony': 1, 'Frances Conroy': 1, 'Christina Cox': 1, 'Shelbie Bruce': 1, 'Jason Patric': 1, 'Emilio EchevarrÃ\\xada': 1, 'Kimberly Elise': 1, 'Omar Epps': 1, 'RenÃ©e Taylor': 1, 'G. W. Bailey': 1, 'Zuleikha Robinson': 1, 'Omar Sharif': 1, 'Adam Alexi-Malle': 1, 'Louise Lombard': 1, 'Snoop Dogg': 1, 'Fred Williamson': 1, 'Minnie Driver': 1, 'CÃ©cile De France': 1, 'Robert Fyfe': 1, 'MaÃ¯ Anh Le': 1, 'Oanh Nguyen': 1, \"Jaran 'See Tao' Petcharoen\": 1, 'StÃ©phanie Lagarde': 1, 'Morris Chestnut': 1, 'Ian Holm': 1, 'Lou Romano': 1, 'Brian Dennehy': 1, 'Peter Sohn': 1, 'Charlie Tahan': 1, 'Salli Richardson-Whitfield': 1, 'Willow Smith': 1, 'Thomas Haden Church': 1, 'Topher Grace': 1, 'Charlie Cox': 1, 'Vincent Regan': 1, 'Wes Bentley': 1, 'Kate Butler': 1, 'Lymari Nadal': 1, 'Cameron Richardson': 1, 'Jerry Seinfeld': 1, 'Laurie Metcalf': 1, 'Nicole Sullivan': 1, 'Harland Williams': 1, 'Patrick Dempsey': 1, 'Rachel Covey': 1, 'Anthony Edwards': 1, 'Dan Castellaneta': 1, 'Julie Kavner': 1, 'Nancy Cartwright': 1, 'Yeardley Smith': 1, 'Om Puri': 1, 'Dakota Blue Richards': 1, 'Dallas Roberts': 1, 'Peter Fonda': 1, 'Lena Olin': 1, 'Charlie Hewson': 1, 'Jimmy Bennett': 1, 'Tory Kittles': 1, 'Jerry Stiller': 1, 'Rob Corddry': 1, 'Jon Heder': 1, 'James Woods': 1, 'ZoÃ« Bell': 1, 'Vanessa Ferlito': 1, 'Sydney Tamiia Poitier': 1, 'Rachael Taylor': 1, 'Jeremy Northam': 1, 'Jackson Bond': 1, 'Richard Portnow': 1, 'Gary Dourdan': 1, 'Terry Crews': 1, 'Clifton Powell': 1, 'Lester Speight': 1, 'Aishwarya Rai Bachchan': 1, 'Peter Mullan': 1, 'Oliver Reed': 1, 'Taylor Momsen': 1, 'Christine Baranski': 1, 'Bill Irwin': 1, 'Paul Sanchez': 1, 'Lari White': 1, 'Dougray Scott': 1, 'Eartha Kitt': 1, 'Wendie Malick': 1, 'Lauren Holly': 1, 'Mark Feuerstein': 1, 'D. B. Sweeney': 1, 'Alfre Woodard': 1, 'Ossie Davis': 1, 'Max Casella': 1, 'Hayden Panettiere': 1, 'John Forsythe': 1, 'Joely Richardson': 1, 'Jon Bon Jovi': 1, 'David Keith': 1, 'Will Patton': 1, 'Blythe Danner': 1, 'Rosie Perez': 1, 'Armand Assante': 1, 'Edward James Olmos': 1, 'Elisabeth Shue': 1, 'Kim Dickens': 1, 'Rhona Mitra': 1, 'Joel Gretsch': 1, 'Saul Rubinek': 1, 'Michael Rapaport': 1, 'Tony Goldwyn': 1, 'Sarah Wynter': 1, 'Spencer Treat Clark': 1, 'John Patrick Amedori': 1, 'Clint Eastwood': 1, 'Patrick Fugit': 1, 'Simon Baker': 1, \"Jerry O'Connell\": 1, 'Rachael Leigh Cook': 1, 'Johnny Strong': 1, 'Stephen Baldwin': 1, 'Kristen Johnston': 1, 'Joan Collins': 1, 'Steven Culp': 1, 'Shawn Driscoll': 1, 'Bill Pullman': 1, \"Chris O'Donnell\": 1, 'Robin Tunney': 1, 'Diana Scarwid': 1, 'James Remar': 1, 'Alice Evans': 1, 'Tim McInnerny': 1, 'GÃ©rard Depardieu': 1, 'Janet Jackson': 1, 'Larry Miller': 1, 'John Ales': 1, 'Richard Gant': 1, 'James Spader': 1, 'Robert Forster': 1, 'Lou Diamond Phillips': 1, 'Lily Tomlin': 1, 'Rene Russo': 1, 'Jason Alexander': 1, 'Piper Perabo': 1})\n"
     ]
    }
   ],
   "source": [
    "data = pd.read_csv('movie_bd_v5.csv.xlw')\n",
    "data['cast'] = data['cast'].apply(lambda x:x.split('|'))\n",
    "data5 = data[data['budget'] > data['budget'].mean()]\n",
    "\n",
    "import collections\n",
    "c = collections.Counter()\n",
    "for line in data5['cast']:\n",
    "    for actor in line:\n",
    "        c[actor] += 1\n",
    "print(c)\n",
    "\n",
    "\n",
    "\n"
   ]
  },
  {
   "cell_type": "markdown",
   "metadata": {
    "colab_type": "text",
    "id": "NIh6AaW5Vp_n"
   },
   "source": [
    "# 17. В фильмах какого жанра больше всего снимался Nicolas Cage? "
   ]
  },
  {
   "cell_type": "code",
   "execution_count": 330,
   "metadata": {
    "colab": {},
    "colab_type": "code",
    "id": "H74SJDIBVp_n"
   },
   "outputs": [
    {
     "name": "stdout",
     "output_type": "stream",
     "text": [
      "Counter({'Action': 17, 'Thriller': 15, 'Drama': 12, 'Crime': 10, 'Fantasy': 8, 'Adventure': 7, 'Comedy': 6, 'Science Fiction': 4, 'Mystery': 3, 'Animation': 3, 'Family': 3, 'History': 2, 'War': 1, 'Horror': 1, 'Romance': 1})\n"
     ]
    },
    {
     "name": "stderr",
     "output_type": "stream",
     "text": [
      "<ipython-input-330-5557ebf4421a>:6: SettingWithCopyWarning: \n",
      "A value is trying to be set on a copy of a slice from a DataFrame.\n",
      "Try using .loc[row_indexer,col_indexer] = value instead\n",
      "\n",
      "See the caveats in the documentation: https://pandas.pydata.org/pandas-docs/stable/user_guide/indexing.html#returning-a-view-versus-a-copy\n",
      "  data6['genres'] = data6['genres'].apply(lambda x:x.split('|'))\n"
     ]
    }
   ],
   "source": [
    "#отберем фильмы с Кейджем\n",
    "#найдем жанры\n",
    "data = pd.read_csv('movie_bd_v5.csv.xlw')\n",
    "\n",
    "data6 = data[data.cast.str.contains('Nicolas Cage', na = False)]\n",
    "data6['genres'] = data6['genres'].apply(lambda x:x.split('|'))\n",
    "\n",
    "import collections\n",
    "c = collections.Counter()\n",
    "for line in data6['genres']:\n",
    "    for genre in line:\n",
    "        c[genre]+=1\n",
    "print(c)"
   ]
  },
  {
   "cell_type": "markdown",
   "metadata": {
    "colab_type": "text",
    "id": "RqOmPRfWVp_q"
   },
   "source": [
    "# 18. Самый убыточный фильм от Paramount Pictures"
   ]
  },
  {
   "cell_type": "code",
   "execution_count": 335,
   "metadata": {
    "colab": {},
    "colab_type": "code",
    "id": "9E_B0Y96Vp_r"
   },
   "outputs": [
    {
     "name": "stderr",
     "output_type": "stream",
     "text": [
      "<ipython-input-335-472f61830d53>:5: SettingWithCopyWarning: \n",
      "A value is trying to be set on a copy of a slice from a DataFrame.\n",
      "Try using .loc[row_indexer,col_indexer] = value instead\n",
      "\n",
      "See the caveats in the documentation: https://pandas.pydata.org/pandas-docs/stable/user_guide/indexing.html#returning-a-view-versus-a-copy\n",
      "  data6['profit'] = profit\n"
     ]
    },
    {
     "data": {
      "text/html": [
       "<div>\n",
       "<style scoped>\n",
       "    .dataframe tbody tr th:only-of-type {\n",
       "        vertical-align: middle;\n",
       "    }\n",
       "\n",
       "    .dataframe tbody tr th {\n",
       "        vertical-align: top;\n",
       "    }\n",
       "\n",
       "    .dataframe thead th {\n",
       "        text-align: right;\n",
       "    }\n",
       "</style>\n",
       "<table border=\"1\" class=\"dataframe\">\n",
       "  <thead>\n",
       "    <tr style=\"text-align: right;\">\n",
       "      <th></th>\n",
       "      <th>imdb_id</th>\n",
       "      <th>budget</th>\n",
       "      <th>revenue</th>\n",
       "      <th>original_title</th>\n",
       "      <th>cast</th>\n",
       "      <th>director</th>\n",
       "      <th>tagline</th>\n",
       "      <th>overview</th>\n",
       "      <th>runtime</th>\n",
       "      <th>genres</th>\n",
       "      <th>production_companies</th>\n",
       "      <th>release_date</th>\n",
       "      <th>vote_average</th>\n",
       "      <th>release_year</th>\n",
       "      <th>profit</th>\n",
       "    </tr>\n",
       "  </thead>\n",
       "  <tbody>\n",
       "    <tr>\n",
       "      <th>925</th>\n",
       "      <td>tt0267626</td>\n",
       "      <td>100000000</td>\n",
       "      <td>35168966</td>\n",
       "      <td>K-19: The Widowmaker</td>\n",
       "      <td>Harrison Ford|Liam Neeson|Peter Sarsgaard|Joss...</td>\n",
       "      <td>Kathryn Bigelow</td>\n",
       "      <td>Fate has found its hero.</td>\n",
       "      <td>When Russia's first nuclear submarine malfunct...</td>\n",
       "      <td>138</td>\n",
       "      <td>Thriller|Drama|History</td>\n",
       "      <td>Paramount Pictures|Intermedia Films|National G...</td>\n",
       "      <td>7/19/2002</td>\n",
       "      <td>6.0</td>\n",
       "      <td>2002</td>\n",
       "      <td>-64831034</td>\n",
       "    </tr>\n",
       "  </tbody>\n",
       "</table>\n",
       "</div>"
      ],
      "text/plain": [
       "       imdb_id     budget   revenue        original_title  \\\n",
       "925  tt0267626  100000000  35168966  K-19: The Widowmaker   \n",
       "\n",
       "                                                  cast         director  \\\n",
       "925  Harrison Ford|Liam Neeson|Peter Sarsgaard|Joss...  Kathryn Bigelow   \n",
       "\n",
       "                      tagline  \\\n",
       "925  Fate has found its hero.   \n",
       "\n",
       "                                              overview  runtime  \\\n",
       "925  When Russia's first nuclear submarine malfunct...      138   \n",
       "\n",
       "                     genres  \\\n",
       "925  Thriller|Drama|History   \n",
       "\n",
       "                                  production_companies release_date  \\\n",
       "925  Paramount Pictures|Intermedia Films|National G...    7/19/2002   \n",
       "\n",
       "     vote_average  release_year    profit  \n",
       "925           6.0          2002 -64831034  "
      ]
     },
     "execution_count": 335,
     "metadata": {},
     "output_type": "execute_result"
    }
   ],
   "source": [
    "data = pd.read_csv('movie_bd_v5.csv.xlw')\n",
    "#data['production_companies'] = data['production_companies'].apply(lambda x:x.split('|'))\n",
    "data6 = data[data['production_companies'].str.contains('Paramount Pictures', na = False)]\n",
    "profit = data6.revenue - data6.budget\n",
    "data6['profit'] = profit\n",
    "data6[data6.profit == data6.profit.min()]\n",
    "\n",
    "\n"
   ]
  },
  {
   "cell_type": "markdown",
   "metadata": {
    "colab_type": "text",
    "id": "vS8Ur6ddVp_u"
   },
   "source": [
    "# 19. Какой год стал самым успешным по суммарным кассовым сборам?"
   ]
  },
  {
   "cell_type": "code",
   "execution_count": 341,
   "metadata": {
    "colab": {},
    "colab_type": "code",
    "id": "Dnbt4GdIVp_v"
   },
   "outputs": [
    {
     "data": {
      "text/plain": [
       "release_year\n",
       "2015    25449202382\n",
       "2014    23405862953\n",
       "2013    23213799791\n",
       "2012    23079001687\n",
       "2011    22676791872\n",
       "2010    21071204961\n",
       "2009    20261791024\n",
       "2008    18252781990\n",
       "2007    18162406801\n",
       "2004    15663430720\n",
       "2005    15309425558\n",
       "2006    14775042320\n",
       "2003    14346123312\n",
       "2002    14136361487\n",
       "2001    13017764865\n",
       "2000    10664099805\n",
       "Name: revenue, dtype: int64"
      ]
     },
     "execution_count": 341,
     "metadata": {},
     "output_type": "execute_result"
    }
   ],
   "source": [
    "data = pd.read_csv('movie_bd_v5.csv.xlw')\n",
    "data.groupby(['release_year'])['revenue'].sum().sort_values(ascending = False)"
   ]
  },
  {
   "cell_type": "markdown",
   "metadata": {
    "colab_type": "text",
    "id": "JAzJh4QAVp_z"
   },
   "source": [
    "# 20. Какой самый прибыльный год для студии Warner Bros?"
   ]
  },
  {
   "cell_type": "code",
   "execution_count": 346,
   "metadata": {
    "colab": {},
    "colab_type": "code",
    "id": "wgVu02DEVp_0"
   },
   "outputs": [
    {
     "data": {
      "text/plain": [
       "release_year\n",
       "2014    2295464519\n",
       "2007    2201675217\n",
       "2008    2134595031\n",
       "2010    1974712985\n",
       "2011    1871393682\n",
       "2003    1855493377\n",
       "2009    1822454136\n",
       "2013    1636453400\n",
       "2004    1631933725\n",
       "2005    1551980298\n",
       "2001    1343545668\n",
       "2012    1258020056\n",
       "2002    1022709901\n",
       "2015     870368348\n",
       "2006     620170743\n",
       "2000     452631386\n",
       "Name: profit, dtype: int64"
      ]
     },
     "execution_count": 346,
     "metadata": {},
     "output_type": "execute_result"
    }
   ],
   "source": [
    "data = pd.read_csv('movie_bd_v5.csv.xlw')\n",
    "profit = data.revenue - data.budget\n",
    "data['profit'] = profit\n",
    "data_Warner = data[data.production_companies.str.contains('Warner Bros', na = False)]\n",
    "data_Warner.groupby(['release_year'])['profit'].sum().sort_values(ascending = False)"
   ]
  },
  {
   "cell_type": "markdown",
   "metadata": {
    "colab_type": "text",
    "id": "8Im1S2HRVp_4"
   },
   "source": [
    "# 21. В каком месяце за все годы суммарно вышло больше всего фильмов?"
   ]
  },
  {
   "cell_type": "code",
   "execution_count": 366,
   "metadata": {
    "colab": {},
    "colab_type": "code",
    "id": "lev6TH7gVp_4"
   },
   "outputs": [
    {
     "name": "stdout",
     "output_type": "stream",
     "text": [
      "Counter({'9': 227, '12': 190, '10': 186, '8': 161, '3': 156, '4': 149, '6': 147, '11': 146, '7': 142, '5': 140, '2': 135, '1': 110})\n"
     ]
    }
   ],
   "source": [
    "data = pd.read_csv('movie_bd_v5.csv.xlw')\n",
    "data['release_date'] = data['release_date'].apply(lambda x:x.split('/'))\n",
    "data['release_date'] = data['release_date'].apply(lambda x:x[0])\n",
    "#split months - ['release_date'][0]\n",
    "import collections\n",
    "c = collections.Counter()\n",
    "for month in data['release_date']:\n",
    "    c[month]+=1\n",
    "print(c)"
   ]
  },
  {
   "cell_type": "markdown",
   "metadata": {
    "colab_type": "text",
    "id": "uAJsZ_NeVp_7"
   },
   "source": [
    "# 22. Сколько суммарно вышло фильмов летом? (за июнь, июль, август)"
   ]
  },
  {
   "cell_type": "code",
   "execution_count": 386,
   "metadata": {
    "colab": {},
    "colab_type": "code",
    "id": "Aa-hEREoVp_8"
   },
   "outputs": [
    {
     "name": "stdout",
     "output_type": "stream",
     "text": [
      "450\n"
     ]
    }
   ],
   "source": [
    "data = pd.read_csv('movie_bd_v5.csv.xlw')\n",
    "data['release_date'] = data['release_date'].apply(lambda x:x.split('/'))\n",
    "data['release_date'] = data['release_date'].apply(lambda x:x[0])\n",
    "#split months - ['release_date'][0]\n",
    "import collections\n",
    "c = collections.Counter()\n",
    "for month in data['release_date']:\n",
    "    if int(month) <= 8 and int(month) >= 6:\n",
    "        c[month]+=1\n",
    "summa = 0\n",
    "for i in c.values():\n",
    "    summa += i\n",
    "print(summa)\n"
   ]
  },
  {
   "cell_type": "markdown",
   "metadata": {
    "colab_type": "text",
    "id": "G94ppOY1VqAA"
   },
   "source": [
    "# 23. Для какого режиссера зима – самое продуктивное время года? "
   ]
  },
  {
   "cell_type": "code",
   "execution_count": 452,
   "metadata": {
    "colab": {},
    "colab_type": "code",
    "id": "RhNTsamuVqAB"
   },
   "outputs": [
    {
     "name": "stdout",
     "output_type": "stream",
     "text": [
      "[('Peter Jackson', 7), ('Clint Eastwood', 6), ('Steven Soderbergh', 6), ('Shawn Levy', 4), ('Nancy Meyers', 4), ('Martin Scorsese', 4), ('Adam Shankman', 4), ('Ridley Scott', 3), ('Rob Marshall', 3), ('Tim Burton', 3), ('Steve Carr', 3), ('Patrick Lussier', 3), ('Donald Petrie', 3), ('Marc Lawrence', 3), ('Lasse HallstrÃ¶m', 3), ('Edward Zwick', 3), ('Jason Friedberg', 3), ('Aaron Seltzer', 3), ('Peter Farrelly', 3), ('Steven Spielberg', 3), ('Wayne Wang', 3), ('Quentin Tarantino', 2), ('Adam McKay', 2), ('Michael Mann', 2), ('Glenn Ficarra', 2), ('John Requa', 2), ('Pierre Morel', 2), ('Wes Anderson', 2), ('Paul Thomas Anderson', 2), ('Jaume Collet-Serra', 2), ('George Clooney', 2), ('Shana Feste', 2), ('Ken Kwapis', 2), ('Henry Selick', 2), ('P.J. Hogan', 2), ('David S. Goyer', 2), ('Paul McGuigan', 2), ('Marcus Nispel', 2), ('Andrzej Bartkowiak', 2), ('Scott Cooper', 2), ('Allen Hughes', 2), ('Garry Marshall', 2), ('David O. Russell', 2), ('James L. Brooks', 2), ('Brian Levant', 2), ('Martin Campbell', 2), ('Ron Howard', 2), ('Cameron Crowe', 2), ('Dennis Dugan', 2), ('Mark Waters', 2), ('Thomas Carter', 2), ('Bryan Singer', 2), ('Sylvester Stallone', 2), ('Jon M. Chu', 2), ('Gabriele Muccino', 2), ('Andy Tennant', 2), ('David Wain', 2), ('Brad Anderson', 2), ('Gregory Hoblit', 2), ('Simon West', 2), ('Bobby Farrelly', 2), ('Jason Reitman', 2), ('Joe Carnahan', 2), ('Stephen Daldry', 2), ('John Whitesell', 2), ('Spike Jonze', 2), ('Denzel Washington', 2), ('Mark Steven Johnson', 2), ('John Moore', 2), ('Walter Hill', 2), ('Brett Ratner', 2), ('Peter Segal', 2), ('Francis Lawrence', 2), ('Rob Reiner', 2), ('Wes Craven', 2), ('Mel Gibson', 2), ('Mike Nichols', 2), ('Joel Schumacher', 2), ('J.J. Abrams', 1), ('Alejandro GonzÃ¡lez IÃ±Ã¡rritu', 1), ('Lana Wachowski', 1), ('Lilly Wachowski', 1), ('Alex Garland', 1), ('Olivier Megaton', 1), ('Sam Taylor-Johnson', 1), ('Matthew Vaughn', 1), ('Ericson Core', 1), ('David Koepp', 1), ('Sean Anders', 1), ('Ari Sandel', 1), ('Jeremy Garelick', 1), ('Jason Moore', 1), ('Dean Israelite', 1), ('Paul Tibbitt', 1), ('Mike Binder', 1), ('Evan Goldberg', 1), ('Seth Rogen', 1), ('Phil Lord', 1), ('Christopher Miller', 1), ('Sergey Bodrov', 1), ('J.C. Chandor', 1), ('Tim Story', 1), ('Kenneth Branagh', 1), ('JosÃ© Padilha', 1), ('Rob Minkoff', 1), ('Angelina Jolie', 1), ('Ava DuVernay', 1), ('Paul W.S. Anderson', 1), ('Will Gluck', 1), ('Stuart Beattie', 1), ('Tom Gormican', 1), ('Akiva Goldsman', 1), ('Russell Crowe', 1), ('Steve Pink', 1), ('Christopher Spencer', 1), ('GrÃ©gory Levasseur', 1), ('Renny Harlin', 1), ('Rupert Wyatt', 1), ('Matt Bettinelli-Olpin', 1), ('Tyler Gillett', 1), ('James Cameron', 1), ('Patrick Tatopoulos', 1), ('Guy Ritchie', 1), ('Ron Clements', 1), ('John Musker', 1), ('Jim Sheridan', 1), ('Betty Thomas', 1), ('Gary Winick', 1), ('Michael Spierig', 1), ('Peter Spierig', 1), ('Antoine Fuqua', 1), ('Rajkumar Hirani', 1), ('NimrÃ³d Antal', 1), ('Tom Tykwer', 1), ('Thor Freudenthal', 1), ('Jonas Elmer', 1), ('Darren Aronofsky', 1), ('Joseph Kosinski', 1), ('Florian Henckel von Donnersmarck', 1), ('Ethan Coen', 1), ('Joel Coen', 1), ('Paul Weitz', 1), ('Chris Columbus', 1), ('Albert Hughes', 1), ('Anand Tucker', 1), ('Rob Letterman', 1), ('Roman Polanski', 1), ('Scott Stewart', 1), ('Kevin Smith', 1), ('Neil Marshall', 1), ('Roger Michell', 1), ('Michael Lembeck', 1), ('Breck Eisner', 1), ('Eric Brevig', 1), ('Tom Vaughan', 1), ('John Erick Dowdle', 1), ('Joel Gallen', 1), ('John A. Davis', 1), ('Peter Howitt', 1), ('Jessie Nelson', 1), ('John Boorman', 1), (\"Pat O'Connor\", 1), ('Jesse Dylan', 1), ('Frank Darabont', 1), ('Demian Lichtenstein', 1), ('Francine McDougall', 1), ('Doug Liman', 1), ('Roland Emmerich', 1), ('Scott Derrickson', 1), ('Matt Reeves', 1), ('Peyton Reed', 1), ('David Frankel', 1), ('Anne Fletcher', 1), ('Iain Softley', 1), ('Lexi Alexander', 1), ('Pete Travis', 1), ('Martin McDonagh', 1), ('David Moreau', 1), ('Xavier Palud', 1), ('Frank Miller', 1), ('Sam Mendes', 1), ('Malcolm D. Lee', 1), ('Nicolas Winding Refn', 1), ('Brad Bird', 1), ('David Fincher', 1), ('Ivan Reitman', 1), ('D.J. Caruso', 1), ('Mark Neveldine', 1), ('Brian Taylor', 1), ('Mikael HÃ¥fstrÃ¶m', 1), ('Greg Mottola', 1), ('Dominic Sena', 1), ('Chris Gorak', 1), ('Christian E. Christiansen', 1), ('Michel Gondry', 1), ('Daniel Barnz', 1), ('Mike Mitchell', 1), ('Kelly Asbury', 1), ('Kevin Macdonald', 1), ('David Gordon Green', 1), ('Alister Grierson', 1), ('Benny Chan', 1), ('Phyllida Lloyd', 1), ('Lee Tamahori', 1), ('Rodrigo GarcÃ\\xada', 1), ('Joel Zwick', 1), ('Andrew Davis', 1), ('Stuart Baird', 1), ('Kurt Wimmer', 1), ('Miguel Arteta', 1), ('Jim Gillespie', 1), ('Ron Shelton', 1), ('Nick Cassavetes', 1), ('Michael Rymer', 1), ('Robin Budd', 1), ('Donovan Cook', 1), ('Dewey Nicks', 1), ('Alexander Payne', 1), ('Mark Pellington', 1), ('Tamra Davis', 1), ('Tom Shadyac', 1), ('Charles Stone III', 1), ('MÃ¥ns MÃ¥rlind', 1), ('BjÃ¶rn Stein', 1), ('Christopher McQuarrie', 1), ('Michael Sucsy', 1), ('Brad Peyton', 1), ('Tom Hooper', 1), ('Kathryn Bigelow', 1), ('Josh Trank', 1), ('Mike McCoy', 1), ('Scott Waugh', 1), ('Baltasar KormÃ¡kur', 1), ('Judd Apatow', 1), ('James Watkins', 1), ('Daniel Espinosa', 1), ('Asger Leth', 1), ('Julie Anne Robinson', 1), ('Anthony Hemingway', 1), ('Andy Fickman', 1), ('Steve Trenbirth', 1), ('Todd Phillips', 1), ('David Dobkin', 1), ('John Woo', 1), ('David R. Ellis', 1), ('Anthony Minghella', 1), ('Ronald F. Maxwell', 1), ('Alan Parker', 1), ('Chris Koch', 1), ('Ben Stiller', 1), ('Jonathan Levine', 1), ('Tommy Wirkola', 1), ('Carl Rinsch', 1), ('Peter Berg', 1), ('Harmony Korine', 1), ('Taylor Hackford', 1), ('Ruben Fleischer', 1), ('Seth Gordon', 1), ('John Luessenhop', 1), ('Andy Muschietti', 1), ('Steven Brill', 1), ('Elizabeth Banks', 1), ('Rusty Cundieff', 1), ('James Duffy', 1), ('Griffin Dunne', 1), ('Patrik Forsberg', 1), ('James Gunn', 1), ('Will Graham', 1), ('Jonathan van Tulleken', 1), ('Callan Brunker', 1), ('Giuseppe Tornatore', 1), ('Jonathan Teplitzky', 1), ('Neil Nightingale', 1), ('Barry Cook', 1), ('Ric Roman Waugh', 1), ('John Wells', 1), ('Christopher B. Landon', 1), ('Ed Gass-Donnelly', 1), ('Justin Chadwick', 1), ('Andrew Adamson', 1), ('James McTeigue', 1), ('Garth Jennings', 1), ('Rob Bowman', 1), ('Cory Edwards', 1), ('Todd Edwards', 1), ('Tony Leech', 1), ('John Polson', 1), ('Frederik Du Chau', 1), ('Dean Parisot', 1), ('Louis Leterrier', 1), ('Jean-FranÃ§ois Richet', 1), ('Clare Kilner', 1), ('Geoffrey Sax', 1), ('Uwe Boll', 1), ('Stephen Kay', 1), ('Niki Caro', 1), ('Len Wiseman', 1), ('Frank Marshall', 1), ('James Wong', 1), ('Stefen Fangmeier', 1), ('Robert De Niro', 1), (\"Matthew O'Callaghan\", 1), ('McG', 1), ('Joe Roth', 1), ('Nick Hurran', 1), ('Bill Condon', 1), ('Chris Noonan', 1), ('Craig Brewer', 1), ('Richard Eyre', 1), ('Wayne Kramer', 1), ('Richard Loncraine', 1), ('Glen Morgan', 1), ('Justin Lin', 1), ('Eric Bress', 1), ('J. Mackye Gruber', 1), ('Jay Roach', 1), ('Brad Silberling', 1), ('Jeff Schaffer', 1), ('John Hamburg', 1), ('Philip Kaufman', 1), ('Sara Sugarman', 1), ('Guy Ferland', 1), ('Kevin Rodney Sullivan', 1), ('Joseph Kahn', 1), (\"Gavin O'Connor\", 1), ('Jay Chandrasekhar', 1), ('George Armitage', 1), ('Kevin Allen', 1), ('Jon Turteltaub', 1), ('GÃ¡bor CsupÃ³', 1), ('Tim Hill', 1), ('Chris Weitz', 1), ('Jon Avnet', 1), ('Mennan Yapo', 1), ('Dave Meyers', 1), ('Michael Winterbottom', 1), ('Brian Robbins', 1), ('Richard LaGravenese', 1), ('Jay Russell', 1), ('Jake Kasdan', 1), ('David Leland', 1), ('Peter Webber', 1), ('Tyler Perry', 1), ('Ben Garant', 1), ('Robert Zemeckis', 1), ('Mark Dindal', 1), ('David Twohy', 1), ('Ben Younger', 1), ('Sam Raimi', 1), ('Danny Leiner', 1), ('Jonathan Lynn', 1), ('Roger Donaldson', 1), ('Danny Boyle', 1), ('John Frankenheimer', 1), ('Gus Van Sant', 1), ('Jack Sholder', 1), ('Courtney Solomon', 1), ('Diane Keaton', 1)]\n"
     ]
    }
   ],
   "source": [
    "#choose winter months\n",
    "#group by directors\n",
    "#count number of films made by certain director\n",
    "data = pd.read_csv('movie_bd_v5.csv.xlw')\n",
    "data['release_date'] = data['release_date'].apply(lambda x:x.split('/'))\n",
    "data['release_date'] = data['release_date'].apply(lambda x:x[0]+' ')\n",
    "data['director'] = data['director'].apply(lambda x:x.split('|'))\n",
    "data_winter = data[(data.release_date.str.match('12')) | (data.release_date.str.match('2 ')) | (data.release_date.str.match('1 '))  ]\n",
    "\n",
    "import collections\n",
    "\n",
    "c = collections.Counter()\n",
    "for line in data_winter['director']:\n",
    "    for director in line:\n",
    "        c[director]+=1\n",
    "\n",
    "import operator\n",
    "\n",
    "c_sorted = sorted(c.items(), key=lambda kv: kv[1], reverse = True)\n",
    "print(c_sorted)\n",
    "    \n",
    "\n",
    "\n"
   ]
  },
  {
   "cell_type": "markdown",
   "metadata": {
    "colab_type": "text",
    "id": "RBo0JVjVVqAF"
   },
   "source": [
    "# 24. Какая студия дает самые длинные названия своим фильмам по количеству символов?"
   ]
  },
  {
   "cell_type": "code",
   "execution_count": 124,
   "metadata": {
    "colab": {},
    "colab_type": "code",
    "id": "QRGS8L0iVqAG"
   },
   "outputs": [
    {
     "data": {
      "text/plain": [
       "production_companies\n",
       "Four By Two Productions       83.0\n",
       "Jim Henson Company, The       59.0\n",
       "Dos Corazones                 47.0\n",
       "Museum Canada Productions     46.0\n",
       "Polsky Films                  46.0\n",
       "                              ... \n",
       "Everest Entertainment          3.0\n",
       "Berlanti Productions           3.0\n",
       "XM2 Productions                2.0\n",
       "Ixtlan Productions             2.0\n",
       "Global Entertainment Group     2.0\n",
       "Name: title_len, Length: 1771, dtype: float64"
      ]
     },
     "execution_count": 124,
     "metadata": {},
     "output_type": "execute_result"
    }
   ],
   "source": [
    "data = pd.read_csv('movie_bd_v5.csv.xlw') \n",
    "data['title_len'] = data['original_title'].apply(lambda x:int(len(x)))\n",
    "data['production_companies'] = data['production_companies'].apply(lambda x:x.split('|'))\n",
    "data2 = data[data['title_len'] > data['title_len'].mean()]\n",
    "data2 = data.explode('production_companies')\n",
    "data2.groupby(['production_companies'])['title_len'].mean().sort_values(ascending = False)\n"
   ]
  },
  {
   "cell_type": "markdown",
   "metadata": {
    "colab_type": "text",
    "id": "9G0hbvR7VqAK"
   },
   "source": [
    "# 25. Описание фильмов какой студии в среднем самые длинные по количеству слов?"
   ]
  },
  {
   "cell_type": "code",
   "execution_count": 61,
   "metadata": {
    "colab": {},
    "colab_type": "code",
    "id": "Ge2GsLNxVqAK"
   },
   "outputs": [
    {
     "data": {
      "text/plain": [
       "production_companies\n",
       "Midnight Picture Show                    175.0\n",
       "Room 9 Entertainment                     161.0\n",
       "Heineken Branded Entertainment           161.0\n",
       "98 MPH Productions                       159.0\n",
       "Brookwell-McNamara Entertainment         156.0\n",
       "                                         ...  \n",
       "London Boulevard                          13.0\n",
       "Phantom Four                              13.0\n",
       "Henceforth                                13.0\n",
       "Empire Pictures                           11.0\n",
       "Motion Picture Corporation of America     11.0\n",
       "Name: over_len, Length: 1771, dtype: float64"
      ]
     },
     "execution_count": 61,
     "metadata": {},
     "output_type": "execute_result"
    }
   ],
   "source": [
    "data = pd.read_csv('movie_bd_v5.csv.xlw') \n",
    "data['production_companies'] = data['production_companies'].apply(lambda x:x.split('|'))\n",
    "data['overview'] = data['overview'].apply(lambda x:x.split(' '))\n",
    "data['over_len'] = data['overview'].apply(lambda x:int(len(x)))\n",
    "data2 = data.explode('production_companies')\n",
    "data2.groupby(['production_companies'])['over_len'].mean().sort_values(ascending = False)\n",
    "\n"
   ]
  },
  {
   "cell_type": "code",
   "execution_count": null,
   "metadata": {},
   "outputs": [],
   "source": []
  },
  {
   "cell_type": "markdown",
   "metadata": {
    "colab_type": "text",
    "id": "FJ1AFt90VqAP"
   },
   "source": [
    "# 26. Какие фильмы входят в 1 процент лучших по рейтингу? \n",
    "по vote_average"
   ]
  },
  {
   "cell_type": "code",
   "execution_count": 91,
   "metadata": {
    "colab": {},
    "colab_type": "code",
    "id": "8qmJVq4CVqAQ"
   },
   "outputs": [
    {
     "data": {
      "text/plain": [
       "original_title\n",
       "The Dark Knight                                  8.1\n",
       "The Imitation Game                               8.0\n",
       "Room                                             8.0\n",
       "Interstellar                                     8.0\n",
       "Inside Out                                       8.0\n",
       "The Grand Budapest Hotel                         7.9\n",
       "The Pianist                                      7.9\n",
       "Guardians of the Galaxy                          7.9\n",
       "Memento                                          7.9\n",
       "The Wolf of Wall Street                          7.9\n",
       "Inception                                        7.9\n",
       "Gone Girl                                        7.9\n",
       "12 Years a Slave                                 7.9\n",
       "The Lord of the Rings: The Return of the King    7.9\n",
       "Prisoners                                        7.8\n",
       "The Fault in Our Stars                           7.8\n",
       "Eternal Sunshine of the Spotless Mind            7.8\n",
       "The Prestige                                     7.8\n",
       "Name: vote_average, dtype: float64"
      ]
     },
     "execution_count": 91,
     "metadata": {},
     "output_type": "execute_result"
    }
   ],
   "source": [
    "data = pd.read_csv('movie_bd_v5.csv.xlw') \n",
    "data.vote_average = data.vote_average.apply(lambda x:float(x))\n",
    "num_films = data.vote_average.count()\n",
    "one_persent = int(num_films/100)\n",
    "data.groupby(['original_title'])['vote_average'].mean().sort_values(ascending = False).head(one_persent)"
   ]
  },
  {
   "cell_type": "markdown",
   "metadata": {
    "colab_type": "text",
    "id": "MdXsUXbCVqAV"
   },
   "source": [
    "# 27. Какие актеры чаще всего снимаются в одном фильме вместе?\n"
   ]
  },
  {
   "cell_type": "markdown",
   "metadata": {
    "colab_type": "text",
    "id": "4ymnxEVoVqAW"
   },
   "source": [
    "ВАРИАНТ 2"
   ]
  },
  {
   "cell_type": "markdown",
   "metadata": {
    "colab_type": "text",
    "id": "U0nONFnGVqAX"
   },
   "source": [
    "# Submission"
   ]
  },
  {
   "cell_type": "code",
   "execution_count": 217,
   "metadata": {
    "colab": {},
    "colab_type": "code",
    "id": "IfcaRO9-VqAX",
    "outputId": "0f132912-32bb-4196-c98c-abfbc4ad5a5f"
   },
   "outputs": [
    {
     "data": {
      "text/plain": [
       "{'1': 'Pirates of the Caribbean: On Stranger Tides (tt1298650)',\n",
       " '2': 'Gods and Generals(tt0279111)',\n",
       " '3': 'Winnie the Pooh(tt1449283)',\n",
       " '4': '109.66',\n",
       " '5': '107.0',\n",
       " '6': 'Avatar (tt0499549)',\n",
       " '7': 'The Lone Ranger(tt1210819)',\n",
       " '8': '1478',\n",
       " '9': 'The Dark Knight (tt0468569)',\n",
       " '10': 'The Lone Ranger (tt1210819)',\n",
       " '11': 'Drama',\n",
       " '12': 'Drama',\n",
       " '13': 'Peter Jackson',\n",
       " '14': 'Robert Rodriguez',\n",
       " '15': 'Chris Hemsworth',\n",
       " '16': 'Matt Damon',\n",
       " '17': 'Action',\n",
       " '18': 'K-19: The Widowmaker (tt0267626)',\n",
       " '19': '2015',\n",
       " '20': '2014',\n",
       " '21': 'сентябрь',\n",
       " '22': '450',\n",
       " '23': 'Peter Jackson',\n",
       " '24': 'Four By Two Productions',\n",
       " '25': 'Midnight Picture Show',\n",
       " '26': 'The Dark Knight, Inside Out, 12 Years a Slave',\n",
       " '27': 'Daniel Radcliffe & Rupert Grint'}"
      ]
     },
     "execution_count": 217,
     "metadata": {},
     "output_type": "execute_result"
    }
   ],
   "source": [
    "# в конце можно посмотреть свои ответы к каждому вопросу\n",
    "answers"
   ]
  },
  {
   "cell_type": "code",
   "execution_count": 216,
   "metadata": {
    "colab": {},
    "colab_type": "code",
    "id": "SiRmHPl8VqAd"
   },
   "outputs": [
    {
     "data": {
      "text/plain": [
       "27"
      ]
     },
     "execution_count": 216,
     "metadata": {},
     "output_type": "execute_result"
    }
   ],
   "source": [
    "# и убедиться что ни чего не пропустил)\n",
    "len(answers)"
   ]
  },
  {
   "cell_type": "code",
   "execution_count": 212,
   "metadata": {
    "colab": {},
    "colab_type": "code",
    "id": "uCfuTkRbVqAg"
   },
   "outputs": [
    {
     "data": {
      "text/plain": [
       "Daniel Radcliffe  Emma Watson             8\n",
       "                  Rupert Grint            8\n",
       "Rupert Grint      Emma Watson             7\n",
       "Johnny Depp       Helena Bonham Carter    6\n",
       "Ben Stiller       Owen Wilson             6\n",
       "                                         ..\n",
       "Emma Stone        Josh Brolin             1\n",
       "Ryan Gosling      Nick Nolte              1\n",
       "                  Josh Brolin             1\n",
       "Sean Penn         Nick Nolte              1\n",
       "Chris Pratt       Bryce Dallas Howard     1\n",
       "Length: 18121, dtype: int64"
      ]
     },
     "execution_count": 212,
     "metadata": {},
     "output_type": "execute_result"
    }
   ],
   "source": [
    "data = pd.read_csv('movie_bd_v5.csv.xlw') \n",
    "data['cast'] = data['cast'].apply(lambda x:x.split('|'))\n",
    "from itertools import combinations\n",
    "list_act = []\n",
    "list_pairs = []\n",
    "list2 = []\n",
    "list_fin = []\n",
    "for line in data.cast:\n",
    "    list_act.append(line)\n",
    "for element in list_act:\n",
    "        list2 = list(combinations(element,2))\n",
    "        list_pairs.append(list2)\n",
    "for combinations in list_pairs:\n",
    "    for pairs in combinations:\n",
    "        list_fin.append(pairs)\n",
    "        \n",
    "pd.Series(Counter(list_fin)).sort_values(ascending = False)\n",
    "    \n",
    "\n",
    "\n"
   ]
  },
  {
   "cell_type": "code",
   "execution_count": null,
   "metadata": {
    "colab": {},
    "colab_type": "code",
    "id": "Vwx3NrkSVqAl"
   },
   "outputs": [],
   "source": []
  },
  {
   "cell_type": "code",
   "execution_count": null,
   "metadata": {},
   "outputs": [],
   "source": []
  }
 ],
 "metadata": {
  "colab": {
   "name": "Copy of [SF-DST] Movies IMBD v4.1 TEMPLATE.ipynb",
   "provenance": []
  },
  "kernelspec": {
   "display_name": "Python 3",
   "language": "python",
   "name": "python3"
  },
  "language_info": {
   "codemirror_mode": {
    "name": "ipython",
    "version": 3
   },
   "file_extension": ".py",
   "mimetype": "text/x-python",
   "name": "python",
   "nbconvert_exporter": "python",
   "pygments_lexer": "ipython3",
   "version": "3.8.3"
  }
 },
 "nbformat": 4,
 "nbformat_minor": 1
}
